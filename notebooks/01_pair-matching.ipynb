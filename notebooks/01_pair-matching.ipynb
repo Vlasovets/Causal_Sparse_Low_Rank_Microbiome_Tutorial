{
 "cells": [
  {
   "cell_type": "code",
   "execution_count": null,
   "id": "8ad9fe78-1efb-48ce-8050-8136c2c4de3b",
   "metadata": {
    "tags": []
   },
   "outputs": [
    {
     "ename": "ModuleNotFoundError",
     "evalue": "No module named 'utils'",
     "output_type": "error",
     "traceback": [
      "\u001b[0;31m---------------------------------------------------------------------------\u001b[0m",
      "\u001b[0;31mModuleNotFoundError\u001b[0m                       Traceback (most recent call last)",
      "\u001b[0;32m/var/folders/gk/5cmhr9sj39n2byqq6c12k44jy8nkk3/T/ipykernel_44990/346560885.py\u001b[0m in \u001b[0;36m<module>\u001b[0;34m\u001b[0m\n\u001b[1;32m      3\u001b[0m \u001b[0;32mimport\u001b[0m \u001b[0mpickle\u001b[0m\u001b[0;34m\u001b[0m\u001b[0;34m\u001b[0m\u001b[0m\n\u001b[1;32m      4\u001b[0m \u001b[0;34m\u001b[0m\u001b[0m\n\u001b[0;32m----> 5\u001b[0;31m \u001b[0;32mfrom\u001b[0m \u001b[0mutils\u001b[0m\u001b[0;34m.\u001b[0m\u001b[0mpair_matching\u001b[0m \u001b[0;32mimport\u001b[0m \u001b[0mdiscrepancyMatrix\u001b[0m\u001b[0;34m,\u001b[0m \u001b[0mconstruct_network\u001b[0m\u001b[0;34m,\u001b[0m \u001b[0mprocess_matched_pairs\u001b[0m\u001b[0;34m,\u001b[0m \u001b[0mgenerate_simulated_outcomes\u001b[0m\u001b[0;34m\u001b[0m\u001b[0;34m\u001b[0m\u001b[0m\n\u001b[0m\u001b[1;32m      6\u001b[0m \u001b[0;32mfrom\u001b[0m \u001b[0mutils\u001b[0m\u001b[0;34m.\u001b[0m\u001b[0mhelper\u001b[0m \u001b[0;32mimport\u001b[0m \u001b[0mcheck_samples_overlap\u001b[0m\u001b[0;34m\u001b[0m\u001b[0;34m\u001b[0m\u001b[0m\n\u001b[1;32m      7\u001b[0m \u001b[0;32mfrom\u001b[0m \u001b[0mutils\u001b[0m\u001b[0;34m.\u001b[0m\u001b[0mplotting\u001b[0m \u001b[0;32mimport\u001b[0m \u001b[0mplot_sex_ratio\u001b[0m\u001b[0;34m,\u001b[0m \u001b[0mplot_activity_ratio\u001b[0m\u001b[0;34m,\u001b[0m \u001b[0mplot_smoking_ratio\u001b[0m\u001b[0;34m\u001b[0m\u001b[0;34m\u001b[0m\u001b[0m\n",
      "\u001b[0;31mModuleNotFoundError\u001b[0m: No module named 'utils'"
     ]
    }
   ],
   "source": [
    "import os\n",
    "import pandas as pd\n",
    "import numpy as np\n",
    "import pickle\n",
    "\n",
    "# os.chdir('/container/mount/point')\n",
    "\n",
    "from utils.pair_matching import discrepancyMatrix, construct_network, process_matched_pairs, generate_simulated_outcomes\n",
    "from utils.helper import check_samples_overlap\n",
    "from utils.plotting import plot_sex_ratio, plot_activity_ratio, plot_smoking_ratio\n",
    "from utils.plotting import plot_bmi_probability_density"
   ]
  },
  {
   "cell_type": "code",
   "execution_count": 5,
   "id": "c9bb212f",
   "metadata": {},
   "outputs": [
    {
     "name": "stdout",
     "output_type": "stream",
     "text": [
      "README.md  \u001b[0m\u001b[01;34mdata\u001b[0m/    \u001b[01;34mmodels\u001b[0m/    \u001b[01;34mpreprocessing\u001b[0m/       \u001b[01;34mscripts\u001b[0m/\n",
      "\u001b[01;34manalysis\u001b[0m/  \u001b[01;34mdist\u001b[0m/    \u001b[01;34mpipeline\u001b[0m/  \u001b[01;34mq2_classo.egg-info\u001b[0m/  \u001b[01;34mtests\u001b[0m/\n",
      "\u001b[01;34mbuild\u001b[0m/     \u001b[01;34mdocker\u001b[0m/  \u001b[01;34mplots\u001b[0m/     requirements.txt     \u001b[01;34mutils\u001b[0m/\n"
     ]
    }
   ],
   "source": [
    "%ls container/mount/point/"
   ]
  },
  {
   "cell_type": "markdown",
   "id": "c07fbdb6-b85b-463a-9f71-ae1cc4a2329b",
   "metadata": {},
   "source": [
    "### IgE data"
   ]
  },
  {
   "cell_type": "code",
   "execution_count": 5,
   "id": "60192629-93c4-411a-b3ce-0aadc9f7bfad",
   "metadata": {
    "collapsed": true,
    "jupyter": {
     "outputs_hidden": true
    },
    "tags": []
   },
   "outputs": [
    {
     "name": "stdout",
     "output_type": "stream",
     "text": [
      "Covariates data: (954, 53)\n",
      "Count data: (15170, 2034) \n",
      "\n",
      "Experiment: qa\n",
      "IgE data: (954, 53)\n",
      "Samples that are present in matched pairs, but not in ASVs: 81\n",
      "Number of allergics - 329\n",
      "Number of control - 544\n",
      "\n",
      "\n",
      "Experiment: agg\n",
      "IgE data: (209, 9)\n",
      "Number of allergics - 45\n",
      "Number of control - 163\n",
      "\n",
      "\n",
      "Experiment: single\n",
      "IgE data: (197, 9)\n",
      "Number of allergics - 33\n",
      "Number of control - 163\n",
      "\n",
      "\n",
      "Experiment: multiple\n",
      "IgE data: (176, 9)\n",
      "Number of allergics - 12\n",
      "Number of control - 163\n",
      "\n",
      "\n",
      "Experiment: not_only\n",
      "IgE data: (508, 108)\n",
      "Number of allergics - 249\n",
      "Number of control - 210\n",
      "\n",
      "\n",
      "Experiment: bermuda\n",
      "IgE data: (107, 100)\n",
      "Samples that are present in matched pairs, but not in ASVs: 9\n",
      "Number of allergics - 63\n",
      "Number of control - 19\n",
      "\n",
      "\n",
      "Experiment: birch\n",
      "IgE data: (107, 100)\n",
      "Samples that are present in matched pairs, but not in ASVs: 9\n",
      "Number of allergics - 59\n",
      "Number of control - 23\n",
      "\n",
      "\n",
      "Experiment: bromelain\n",
      "IgE data: (27, 100)\n",
      "Samples that are present in matched pairs, but not in ASVs: 2\n",
      "Number of allergics - 22\n",
      "Number of control - 1\n",
      "\n",
      "\n",
      "Experiment: dust_mite\n",
      "IgE data: (72, 107)\n",
      "Samples that are present in matched pairs, but not in ASVs: 6\n",
      "Number of allergics - 7\n",
      "Number of control - 53\n",
      "\n",
      "\n"
     ]
    }
   ],
   "source": [
    "# covariates = pd.read_csv(\"data/latent_v6.csv\", sep=\",\", low_memory=False, index_col=\"u3_16s_id\") ### unscaled\n",
    "covariates = pd.read_csv(\"data/qa_ige_food.csv\", index_col=0)\n",
    "print(\"Covariates data: {0}\".format(covariates.shape))\n",
    "\n",
    "asv = pd.read_csv(str(\"data/feature_table.tsv\"), index_col=0, sep='\\t')\n",
    "print(\"Count data: {0} \\n\".format(asv.shape))\n",
    "\n",
    "\n",
    "experiments = ['qa', 'agg', 'single', 'multiple', 'not_only', 'bermuda', 'birch', 'bromelain', 'dust_mite']\n",
    "\n",
    "df_dict = dict()\n",
    "\n",
    "for exp in experiments:\n",
    "    print(\"Experiment: {0}\".format(exp))\n",
    "    ige = pd.read_csv(\"data/{0}_ige_food.csv\".format(exp), index_col=0)\n",
    "    print(\"IgE data: {0}\".format(ige.shape))\n",
    "    \n",
    "    # if a person has at least 1 allergy W=1, otherwise W=0\n",
    "    if \"qa\" in exp:\n",
    "        ige['W'] = ige[\"allergy_or_intolerance\"]\n",
    "    elif \"bermuda\" in exp:\n",
    "        ige['W'] = ige[\"bermuda_grass\"]\n",
    "    elif \"birch\" in exp:\n",
    "        ige['W'] = ige[\"birch\"]\n",
    "    elif \"bromelain\" in exp:\n",
    "        ige['W'] = ige[\"bromelain\"]\n",
    "    elif \"dust_mite\" in exp:\n",
    "        ige['W'] = ige[\"dust_mite_pter\"]\n",
    "    else:\n",
    "        ige['W'] = (ige != 0).any(axis=1).astype(int)\n",
    "\n",
    "    \n",
    "    ### merge covariates with IgE\n",
    "    if \"qa\" in exp:\n",
    "        df = ige.copy() # we don't need to merge covariates with covariates\n",
    "    else:\n",
    "        ige = ige.replace({0: 1, 1: 0}) # replace 0 with 1 and 1 with 0 for consistency with u3su_d3d2 variable 1 - no, 0 -yes\n",
    "        df = pd.merge(ige, covariates, left_index=True, right_index=True)\n",
    "        \n",
    "    df = check_samples_overlap(df, asv) # check if datasets overlap\n",
    "    df[\"W_str\"] = df[\"W\"].map({0: \"Yes\", 1: \"No\"}) # str allergy status\n",
    "    df['u3_16s_id'] = df.index\n",
    "    \n",
    "    allergic, control = df[df[\"W\"] == 0], df[df[\"W\"] == 1]\n",
    "    \n",
    "    print(\"Number of allergics - {0}\".format(len(allergic)))\n",
    "    print(\"Number of control - {0}\".format(len(control)))\n",
    "    \n",
    "    if len(allergic) >= 6:\n",
    "        df_dict[exp] = {\"data\": df, \"allergic\": allergic, \"control\": control} # add resulted data to dict for plotting\n",
    "    else:\n",
    "        print(\"Excluded!\")\n",
    "    \n",
    "    with open('data/exp_dict.pkl', 'wb') as f:\n",
    "        pickle.dump(df_dict, f)\n",
    "    \n",
    "    print(\"\\n\")"
   ]
  },
  {
   "cell_type": "markdown",
   "id": "074260a3-7935-4490-838c-6243a98c46b4",
   "metadata": {},
   "source": [
    "Soy and bean allergies are always co-present with other type of IgE, so we exclude it from the further analysis.\n",
    "\n",
    "We also exclude wheat, milk and egg allergies due to low number of cases. Thus, we are further investigating nut,shrimp, meat and kiwi IgEs."
   ]
  },
  {
   "cell_type": "markdown",
   "id": "87e70149-0df0-471b-95c1-870788626467",
   "metadata": {
    "tags": []
   },
   "source": [
    "### Plotting"
   ]
  },
  {
   "cell_type": "markdown",
   "id": "a076e479-02b0-4204-a9bf-ff7d5bcffaa4",
   "metadata": {},
   "source": [
    "For reproducing plots for allergy analysis use kora66 dataframe."
   ]
  },
  {
   "cell_type": "code",
   "execution_count": 5,
   "id": "fd513c4b-2bda-4988-9af8-8b0c6bef1167",
   "metadata": {
    "tags": []
   },
   "outputs": [
    {
     "name": "stdout",
     "output_type": "stream",
     "text": [
      "Experiment: qa\n",
      "Experiment: agg\n",
      "Experiment: single\n",
      "Experiment: multiple\n",
      "Experiment: not_only\n",
      "Experiment: bermuda\n",
      "Experiment: birch\n",
      "Experiment: bromelain\n",
      "Experiment: dust_mite\n"
     ]
    }
   ],
   "source": [
    "show=False\n",
    "save = False\n",
    "\n",
    "for exp, item in df_dict.items():\n",
    "    print(\"Experiment: {0}\".format(exp))\n",
    "    ###Sex\n",
    "    sex_fig = plot_sex_ratio(item[\"data\"], show=show, save=save, name=\"{0}_design_sex_before_matching\".format(exp))\n",
    "    ### Age\n",
    "    #age_fig = plot_age_ratio(item[\"data\"], show=show, save=save, name=\"{0}_design_age_before_matching\".format(exp))\n",
    "    ### Phys activity\n",
    "    phys_fig = plot_activity_ratio(item[\"data\"], show=show, save=save, name=\"{0}_design_phys_before_matching\".format(exp))\n",
    "    ### Smoking behaviour\n",
    "    smoking_fig = plot_smoking_ratio(item[\"data\"], show=show, save=save, name=\"{0}_design_smoking_before_matching\".format(exp))\n",
    "    ### BMI\n",
    "    #bmi_fig = plot_bmi_probability_density(item[\"allergic\"], item[\"control\"], show=show, save=save, name=\"{0}_design_bmi_before_matching\".format(exp))\n",
    "    ### Waist-hip ratio\n",
    "    #whr_fig = plot_waist_hip_ratio_probability_density(item[\"allergic\"], item[\"control\"], show=show, save=save, name=\"{0}_design_hip_before_matching\".format(exp))"
   ]
  },
  {
   "cell_type": "markdown",
   "id": "a94f22d6-32cb-4b2d-878f-96d9dee26cc7",
   "metadata": {},
   "source": [
    "There are no people with bermuda allergy in 30s group.\n",
    "People with bromelain allergy have unique BMI and whr (check which one)"
   ]
  },
  {
   "cell_type": "markdown",
   "id": "8984ded3-d3d1-458e-b259-bb23ef3a4c61",
   "metadata": {},
   "source": [
    "### Create pairs of samples"
   ]
  },
  {
   "cell_type": "code",
   "execution_count": 11,
   "id": "c119b7a4-eb14-4619-bd39-2219657cc45d",
   "metadata": {
    "tags": []
   },
   "outputs": [],
   "source": [
    "for exp in ['kiwi', 'shrimp', 'nut', 'meat']:\n",
    "    df_dict[exp] = df_dict[\"agg\"]"
   ]
  },
  {
   "cell_type": "code",
   "execution_count": 12,
   "id": "d7938116-d1ef-4fc4-bd4a-c2b6bd382ac2",
   "metadata": {
    "tags": []
   },
   "outputs": [
    {
     "name": "stdout",
     "output_type": "stream",
     "text": [
      "Experiment: qa\n",
      "Experiment: agg\n",
      "Experiment: single\n",
      "Experiment: multiple\n",
      "Experiment: not_only\n",
      "Experiment: bermuda\n",
      "Experiment: birch\n",
      "Experiment: bromelain\n",
      "Experiment: dust_mite\n"
     ]
    }
   ],
   "source": [
    "n_col = 10000 # number of randomizations\n",
    "common_columns = ['W', 'sex', 'age', 'bmi', 'BMI_(ter)', 'phys_activ', 'smoking_behaviour']\n",
    "column_mappings = [\"kiwi\", \"shrimp\", \"nut\", \"meat\", \"bermuda_grass\", \"birch\"]\n",
    "\n",
    "for exp, item in df_dict.items():\n",
    "    print(\"Experiment: {0}\".format(exp))\n",
    "        \n",
    "    df = item['data'].copy()\n",
    "    \n",
    "    specific_column = next((exp for column in column_mappings if column in exp), None)\n",
    "\n",
    "    if specific_column:\n",
    "        df_match = df[common_columns + [specific_column]]\n",
    "    else:\n",
    "        df_match = df[common_columns]\n",
    "    \n",
    "    \n",
    "    df_match[\"is_treated\"] = df_match[\"W\"].astype(bool)\n",
    "    df_match[\"pair_nb\"] = np.nan\n",
    "    \n",
    "    # Set the thresholds for each covariate, default is Inf (i.e. no matching)\n",
    "    thresholds =  np.empty((df_match.shape[1], ))\n",
    "    thresholds[:] = np.nan\n",
    "    \n",
    "    # Matching, e.g., the diff = 0 -> the same sex;\n",
    "    # column_thresholds = { \"sex\": 0, \"age\": 5, \"BMI_(ter)\": 0, \"kiwi\": 0, \"shrimp\": 0, \"nut\": 0, \"meat\": 0}\n",
    "    column_thresholds = {\"sex\": 0}\n",
    "\n",
    "    # Set thresholds using the dictionary\n",
    "    for column_name, threshold_value in column_thresholds.items():\n",
    "        \n",
    "        if column_name not in df_match.columns:\n",
    "            continue\n",
    "\n",
    "        column_index = df_match.columns.get_loc(column_name)\n",
    "        thresholds[column_index] = threshold_value\n",
    "\n",
    "    # TO DO describe this step\n",
    "    treated_units = df_match[df_match[\"is_treated\"] is True]\n",
    "    control_units = df_match[df_match[\"is_treated\"] is False]\n",
    "\n",
    "    N_treated, N_control = treated_units.shape[0], control_units.shape[0]\n",
    "    print(\"Number of treated units: {0}\".format(N_treated))\n",
    "    print(\"Number of control units: {0}\".format(N_control))\n",
    "    \n",
    "    # Optional weights for each covariate when computing the distances\n",
    "    # WARNING: the order of the items in scaling needs to be the same as the order of the covariates (i.e. columns)\n",
    "    scaling =  np.ones((df_match.shape[1], ), dtype=int) \n",
    "\n",
    "    discrepancies = discrepancyMatrix(treated_units, control_units, thresholds, scaling)\n",
    "\n",
    "    g, pairs_dict = construct_network(discrepancies, N_treated, N_control)\n",
    "    matched_df = process_matched_pairs(pairs_dict, treated_units, control_units)\n",
    "\n",
    "    print(\"Number of pairs: {0}\".format(len(matched_df.W)))\n",
    "    print(\"Number of allergics: {0}\".format(len(matched_df[matched_df.W == 0])))\n",
    "    print(\"Number of non-allergics: {0} \\n\".format(len(matched_df[matched_df.W == 1])))\n",
    "\n",
    "    matched_df.to_csv('data/matched_ige_{0}.csv'.format(exp), index=True)\n",
    "\n",
    "    simulated_outcomes = generate_simulated_outcomes(matched_df, n_col)\n",
    "\n",
    "    ### Save the result\n",
    "    simulated_outcomes.to_csv('data/W_paired_ige_{0}.csv'.format(exp), index=True)"
   ]
  },
  {
   "cell_type": "code",
   "execution_count": 13,
   "id": "57d69913-570d-4787-9813-5bfc5a7513d7",
   "metadata": {
    "tags": []
   },
   "outputs": [
    {
     "data": {
      "text/plain": [
       "array([nan, nan, nan, nan, nan, nan, nan, nan, nan])"
      ]
     },
     "execution_count": 13,
     "metadata": {},
     "output_type": "execute_result"
    }
   ],
   "source": [
    "df_match\n",
    "thresholds"
   ]
  },
  {
   "cell_type": "markdown",
   "id": "6a421f6f-8743-4804-828d-ab926b63b83c",
   "metadata": {
    "tags": []
   },
   "source": [
    "### Plots after matching"
   ]
  },
  {
   "cell_type": "code",
   "execution_count": null,
   "id": "b0d1eb5d-1e4c-4a4b-bcb2-addfe5291cb5",
   "metadata": {
    "tags": []
   },
   "outputs": [],
   "source": [
    "show=False\n",
    "save = False\n",
    "\n",
    "for exp, item in df_dict.items():\n",
    "    \n",
    "    matched_df = pd.read_csv(\"data/matched_ige_{0}.csv\".format(exp), sep=\",\", low_memory=False, index_col=0)\n",
    "    \n",
    "    print(\"Experiment: {0}\".format(exp))\n",
    "    ###Sex\n",
    "    sex_fig = plot_sex_ratio(item[\"data\"], show=show, save=save, name=\"{0}_design_sex_after_matching\".format(exp))\n",
    "    ### BMI\n",
    "    bmi_fig = plot_bmi_probability_density(item[\"allergic\"], item[\"control\"], show=show, save=save, name=\"{0}_design_bmi_after_matching\".format(exp))\n",
    "    \n",
    "    ### Save the result\n",
    "    # matched_df.to_csv('data/matched_ige_{0}.csv'.format(key), index=True)\n",
    "    \n",
    "    ### TO DO: fix number of bins according to age categories for each dataset\n",
    "    ### Age \n",
    "    # age_fig = plot_age_ratio(item[\"data\"], show=show, save=save, name=\"{0}_design_age_before_matching\".format(key))"
   ]
  },
  {
   "cell_type": "code",
   "execution_count": null,
   "id": "e2b2a88b-cc7e-4c29-8dcd-00a2952dff56",
   "metadata": {
    "tags": []
   },
   "outputs": [],
   "source": [
    "### old provenance of experiments\n",
    "\n",
    "# matched_df.to_csv('../data/matched.csv', index=True)\n",
    "# matched_df.to_csv('../data/matched_relax.csv', index=True)\n",
    "# matched_df.to_csv('../data/matched_age_sex_bmi.csv', index=True)\n",
    "# matched_df.to_csv('data/matched_ige_binary.csv', index=True)\n",
    "\n",
    "# matched_df.to_csv('data/matched_ige_agg.csv', index=True)\n",
    "# matched_df.to_csv('data/matched_ige_single.csv', index=True)\n",
    "# matched_df.to_csv('data/matched_ige_multiple.csv', index=True)\n",
    "# matched_df.to_csv('data/matched_ige_nut.csv', index=True)\n",
    "\n",
    "### simulated_outcomes = W_unique\n",
    "# W_unique.to_csv('../data/W_paired.csv', index=True)\n",
    "# W_unique.to_csv('../data/W_paired_relax.csv', index=True)\n",
    "# W_unique.to_csv('../data/W_paired_age_sex_bmi.csv', index=True)\n",
    "# W_unique.to_csv('../data/W_paired_nuts.csv', index=True)\n",
    "# W_unique.to_csv('data/W_paired_ige_binary.csv', index=True)\n",
    "\n",
    "# W_unique.to_csv('data/W_paired_ige_agg.csv', index=True)\n",
    "# W_unique.to_csv('data/W_paired_ige_single.csv', index=True)\n",
    "# W_unique.to_csv('data/W_paired_ige_multiple.csv', index=True)\n",
    "# W_unique.to_csv('data/W_paired_ige_nut.csv', index=True)\n",
    "# W_unique.to_csv('data/W_paired_ige_nut.csv', index=True)"
   ]
  }
 ],
 "metadata": {
  "kernelspec": {
   "display_name": "Python 3 (ipykernel)",
   "language": "python",
   "name": "python3"
  },
  "language_info": {
   "codemirror_mode": {
    "name": "ipython",
    "version": 3
   },
   "file_extension": ".py",
   "mimetype": "text/x-python",
   "name": "python",
   "nbconvert_exporter": "python",
   "pygments_lexer": "ipython3",
   "version": "3.10.6"
  }
 },
 "nbformat": 4,
 "nbformat_minor": 5
}
