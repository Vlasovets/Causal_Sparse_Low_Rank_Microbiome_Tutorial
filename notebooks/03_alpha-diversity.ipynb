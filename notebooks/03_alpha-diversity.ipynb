{
 "cells": [
  {
   "cell_type": "code",
   "execution_count": 1,
   "id": "1759c049-5874-4930-a5ad-14ea5d580689",
   "metadata": {
    "tags": []
   },
   "outputs": [],
   "source": [
    "import os\n",
    "import pandas as pd # type: ignore\n",
    "import numpy as np # type: ignore\n",
    "import plotly.express as px\n",
    "import plotly.graph_objects as go\n",
    "\n",
    "from rpy2.robjects.packages import importr\n",
    "from rpy2.robjects import pandas2ri, FloatVector\n",
    "\n",
    "# Convert pandas.DataFrames to R dataframes automatically.\n",
    "pandas2ri.activate()\n",
    "\n",
    "try:\n",
    "    os.chdir('/container/mount/point')\n",
    "except FileNotFoundError:\n",
    "    print(\"Warning: Directory '/container/mount/point' does not exist.\")\n",
    "\n",
    "from utils.preprocessing import filter_and_process_asv_table"
   ]
  },
  {
   "cell_type": "code",
   "execution_count": 2,
   "id": "c5343c18-37c3-4fc5-a04f-573311c248fd",
   "metadata": {
    "tags": []
   },
   "outputs": [],
   "source": [
    "utils = importr('utils')\n",
    "divnet = importr('DivNet')\n",
    "breakaway = importr('breakaway')"
   ]
  },
  {
   "cell_type": "markdown",
   "id": "d8b482ad",
   "metadata": {},
   "source": [
    "### KORA Dataset"
   ]
  },
  {
   "cell_type": "code",
   "execution_count": 4,
   "id": "410def0c",
   "metadata": {},
   "outputs": [
    {
     "name": "stdout",
     "output_type": "stream",
     "text": [
      "KORA matched table shape (features, samples): (436, 80)\n",
      "ASV table shape (features, samples): (1469, 436)\n"
     ]
    }
   ],
   "source": [
    "# Load matched dataframe and ASV table\n",
    "kora_matched_df = pd.read_csv(\"data/smoking_KORA_experiment.csv\", index_col=0)\n",
    "asv = pd.read_csv(\"data/filtered_count_table.csv\", index_col=0)\n",
    "print(f\"KORA matched table shape (features, samples): {kora_matched_df.shape}\")\n",
    "print(f\"ASV table shape (features, samples): {asv.shape}\")"
   ]
  },
  {
   "cell_type": "code",
   "execution_count": 5,
   "id": "4118733f",
   "metadata": {},
   "outputs": [
    {
     "name": "stdout",
     "output_type": "stream",
     "text": [
      "class count table shape: (15, 436)\n",
      "domain count table shape: (2, 436)\n",
      "family count table shape: (80, 436)\n",
      "genus count table shape: (401, 436)\n",
      "order count table shape: (41, 436)\n",
      "phylum count table shape: (9, 436)\n",
      "species count table shape: (1354, 436)\n",
      "ASV count table shape: (1469, 436)\n"
     ]
    }
   ],
   "source": [
    "taxonomy_levels = ['domain', 'phylum', 'class', 'order', 'family', 'genus', 'species']\n",
    "\n",
    "# Load taxonomy file\n",
    "taxonomy_df = pd.read_csv(\"data/taxonomy_clean.csv\", index_col=0)\n",
    "\n",
    "# Ensure index names match\n",
    "asv.index.name = taxonomy_df.index.name\n",
    "\n",
    "# Join ASV table with taxonomy\n",
    "join_asv_taxa = asv.join(taxonomy_df)\n",
    "\n",
    "# Aggregate ASV table by taxonomic levels\n",
    "taxa_dict = {}\n",
    "freq_dict = {}\n",
    "\n",
    "# Join 'name' to ASV table\n",
    "ASV_table_with_taxon = asv.join(taxonomy_df['name'])\n",
    "\n",
    "for level in taxonomy_df.columns.difference(['name']):\n",
    "    # Join, group by level, and sum\n",
    "    df_level = asv.join(taxonomy_df[level]).groupby(level).sum()\n",
    "    \n",
    "    # Count non-zero samples per taxon\n",
    "    non_zero_counts = (df_level != 0).sum(axis=1)\n",
    "    non_zero_counts_sorted = non_zero_counts.sort_values(ascending=False).reset_index()\n",
    "    non_zero_counts_sorted.columns = [level, 'count']\n",
    "    freq_dict[level] = non_zero_counts_sorted\n",
    "    \n",
    "    taxa_dict[level] = df_level\n",
    "\n",
    "taxa_dict[\"ASV\"] = asv\n",
    "\n",
    "for level in taxa_dict.keys():\n",
    "    print(f\"{level} count table shape: {taxa_dict[level].shape}\")\n",
    "\n",
    "pd.set_option('display.max_colwidth', None)"
   ]
  },
  {
   "cell_type": "code",
   "execution_count": null,
   "id": "bbf386a7",
   "metadata": {},
   "outputs": [
    {
     "name": "stdout",
     "output_type": "stream",
     "text": [
      "                                      family  count\n",
      "0                       f__Oscillospiraceae;    436\n",
      "1                        f__Lachnospiraceae;    436\n",
      "2                        f__Ruminococcaceae;    435\n",
      "3                         f__Bacteroidaceae;    434\n",
      "4                          f__Rikenellaceae;    424\n",
      "5                         f__Sutterellaceae;    407\n",
      "6                         f__Tannerellaceae;    404\n",
      "7  f__[Eubacterium]_coprostanoligenes_group;    399\n",
      "8              f__Erysipelatoclostridiaceae;    383\n",
      "9                        f__Eggerthellaceae;    377\n",
      "  |======================================================================| 100%\n",
      "  |======================================================================| 100%\n",
      "  |======================================================================| 100%\n",
      "  |======================================================================| 100%\n",
      "  |======================================================================| 100%\n",
      "  |======================================================================| 100%\n"
     ]
    }
   ],
   "source": [
    "lvl = \"family\"\n",
    "dataset = \"kora\"\n",
    "print(freq_dict[lvl][~freq_dict[lvl][lvl].str.contains('unknown')].head(10))\n",
    "\n",
    "base_taxon = 'f__Lachnospiraceae;'\n",
    "\n",
    "# Run divnet (samples as rows, taxa as columns)\n",
    "divnet_stat = divnet.divnet(taxa_dict['family'].T, base=base_taxon, ncores=4)\n",
    "\n",
    "shannon = divnet_stat[0]\n",
    "\n",
    "div_net_dict = {}\n",
    "\n",
    "for i in range(len(shannon)):\n",
    "    sample_id = shannon.names[i]\n",
    "    estimate = round(float(shannon[i][0]), 4)\n",
    "    error = round(float(shannon[i][1]), 4)\n",
    "    div_net_dict[sample_id] = (estimate, error)\n",
    "\n",
    "div_net_pd = pd.DataFrame.from_dict(div_net_dict, orient='index', columns=['estimate', 'error'])\n",
    "\n",
    "# div_net_pd.to_csv(f\"data/divnet_{dataset}.csv\")"
   ]
  },
  {
   "cell_type": "markdown",
   "id": "954b6cd4-5fdd-4a61-b5e1-066adb8da7e0",
   "metadata": {},
   "source": [
    "\"Ecologists who are interested in the way species richness varies with covariate information often run a regression-type analysis on the observed diversity using their covariate information as predictors. However, in many settings (especially microbial), rare and unobserved taxa play a hugely important role in explaining the subtleties of the ecosystem, however, a regression analysis on the observed diversity level fails to account for these unobserved taxa. By predicting the total level of diversity (for example, via breakaway) and estimating the standard error in the estimate, one can take account of these unobserved, but important, taxa. In order to account for the estimated nature of the response, a mixed model approach is taken, whereby the varying levels of confidence in the estimates contributes to a diagonal but heteroscedastic covariance matrix. Given covariates constitute the fixed effects in the mixed model, and significance of the random effect term sigsq_u reflects heterogeneity in the sample, that is, variability that cannot be explained by only the covariates. The authors believe this to be the first attempt at modelling total diversity in a way that accounts for its estimated nature\"."
   ]
  },
  {
   "cell_type": "markdown",
   "id": "8849f77b-3403-491c-92ae-8442a10359b0",
   "metadata": {},
   "source": [
    "This function tests for heterogeneity of total diversity (observed plus unobserved) across multiple sites. It can account or test for fixed effects that may explain diversity. It returns the significance of the covariates in explaining diversity and a hypothesis test for heterogeneity."
   ]
  },
  {
   "cell_type": "code",
   "execution_count": 9,
   "id": "62a46b57-7cc7-48e7-b6d5-f16628cf651f",
   "metadata": {
    "tags": []
   },
   "outputs": [
    {
     "name": "stdout",
     "output_type": "stream",
     "text": [
      " Beta table:    estimate     error  p_value\n",
      "0  2.022185  0.014004    0.000\n",
      "1  0.028263  0.019804    0.154\n"
     ]
    }
   ],
   "source": [
    "dataset = \"kora\"\n",
    "div_net_pd = pd.read_csv(f\"data/divnet_{dataset}.csv\", index_col=0)\n",
    "\n",
    "# # Convert estimates and errors to R vectors\n",
    "estimates = FloatVector(div_net_pd['estimate'])\n",
    "errors = FloatVector(div_net_pd['error'])\n",
    "\n",
    "# # Prepare design matrix with intercept\n",
    "W = kora_matched_df['W'].reset_index(drop=True)\n",
    "intercept = pd.Series(1, index=W.index, name='intercept')\n",
    "design_matrix = pd.concat([intercept, W], axis=1)\n",
    "\n",
    "# # Run breakaway betta\n",
    "betta_result = breakaway.betta(chats=estimates, ses=errors, X=design_matrix)\n",
    "\n",
    "# # Create results DataFrame\n",
    "betta_table = pd.DataFrame(betta_result[0], columns=['estimate', 'error', 'p_value'])\n",
    "observed_estimate = betta_table.loc[1, 'estimate']\n",
    "print(f\" Beta table: {betta_table}\")\n",
    "\n",
    "# # Save results\n",
    "betta_table.to_csv(f'data/plugin_alphadiv_{dataset}.csv', index=False)"
   ]
  },
  {
   "cell_type": "code",
   "execution_count": 17,
   "id": "9d64f09e-8d57-47c0-a3af-99ddde6328d6",
   "metadata": {
    "tags": []
   },
   "outputs": [
    {
     "data": {
      "application/vnd.plotly.v1+json": {
       "config": {
        "plotlyServerURL": "https://plot.ly"
       },
       "data": [
        {
         "alignmentgroup": "True",
         "hovertemplate": "Smoking=%{x}<br>estimate=%{y}<extra></extra>",
         "legendgroup": "Yes",
         "marker": {
          "color": "green"
         },
         "name": "Yes",
         "notched": false,
         "offsetgroup": "Yes",
         "orientation": "v",
         "showlegend": true,
         "type": "box",
         "x": [
          "Yes",
          "Yes",
          "Yes",
          "Yes",
          "Yes",
          "Yes",
          "Yes",
          "Yes",
          "Yes",
          "Yes",
          "Yes",
          "Yes",
          "Yes",
          "Yes",
          "Yes",
          "Yes",
          "Yes",
          "Yes",
          "Yes",
          "Yes",
          "Yes",
          "Yes",
          "Yes",
          "Yes",
          "Yes",
          "Yes",
          "Yes",
          "Yes",
          "Yes",
          "Yes",
          "Yes",
          "Yes",
          "Yes",
          "Yes",
          "Yes",
          "Yes",
          "Yes",
          "Yes",
          "Yes",
          "Yes",
          "Yes",
          "Yes",
          "Yes",
          "Yes",
          "Yes",
          "Yes",
          "Yes",
          "Yes",
          "Yes",
          "Yes",
          "Yes",
          "Yes",
          "Yes",
          "Yes",
          "Yes",
          "Yes",
          "Yes",
          "Yes",
          "Yes",
          "Yes",
          "Yes",
          "Yes",
          "Yes",
          "Yes",
          "Yes",
          "Yes",
          "Yes",
          "Yes",
          "Yes",
          "Yes",
          "Yes",
          "Yes",
          "Yes",
          "Yes",
          "Yes",
          "Yes",
          "Yes",
          "Yes",
          "Yes",
          "Yes",
          "Yes",
          "Yes",
          "Yes",
          "Yes",
          "Yes",
          "Yes",
          "Yes",
          "Yes",
          "Yes",
          "Yes",
          "Yes",
          "Yes",
          "Yes",
          "Yes",
          "Yes",
          "Yes",
          "Yes",
          "Yes",
          "Yes",
          "Yes",
          "Yes",
          "Yes",
          "Yes",
          "Yes",
          "Yes",
          "Yes",
          "Yes",
          "Yes",
          "Yes",
          "Yes",
          "Yes",
          "Yes",
          "Yes",
          "Yes",
          "Yes",
          "Yes",
          "Yes",
          "Yes",
          "Yes",
          "Yes",
          "Yes",
          "Yes",
          "Yes",
          "Yes",
          "Yes",
          "Yes",
          "Yes",
          "Yes",
          "Yes",
          "Yes",
          "Yes",
          "Yes",
          "Yes",
          "Yes",
          "Yes",
          "Yes",
          "Yes",
          "Yes",
          "Yes",
          "Yes",
          "Yes",
          "Yes",
          "Yes",
          "Yes",
          "Yes",
          "Yes",
          "Yes",
          "Yes",
          "Yes",
          "Yes",
          "Yes",
          "Yes",
          "Yes",
          "Yes",
          "Yes",
          "Yes",
          "Yes",
          "Yes",
          "Yes",
          "Yes",
          "Yes",
          "Yes",
          "Yes",
          "Yes",
          "Yes",
          "Yes",
          "Yes",
          "Yes",
          "Yes",
          "Yes",
          "Yes",
          "Yes",
          "Yes",
          "Yes",
          "Yes",
          "Yes",
          "Yes",
          "Yes",
          "Yes",
          "Yes",
          "Yes",
          "Yes",
          "Yes",
          "Yes",
          "Yes",
          "Yes",
          "Yes",
          "Yes",
          "Yes",
          "Yes",
          "Yes",
          "Yes",
          "Yes",
          "Yes",
          "Yes",
          "Yes",
          "Yes",
          "Yes",
          "Yes",
          "Yes",
          "Yes",
          "Yes",
          "Yes",
          "Yes",
          "Yes",
          "Yes",
          "Yes",
          "Yes",
          "Yes",
          "Yes",
          "Yes",
          "Yes",
          "Yes",
          "Yes",
          "Yes",
          "Yes",
          "Yes",
          "Yes"
         ],
         "x0": " ",
         "xaxis": "x",
         "y": [
          2.1369,
          2.2268,
          2.0301,
          1.6316,
          2.2612,
          2.0463,
          2.1084,
          1.7123,
          2.3561,
          1.9456,
          1.6256,
          2.3294,
          2.0383,
          1.9549,
          2.1036,
          1.7885,
          1.9699,
          2.1995,
          2.1678,
          2.3327,
          2.0259,
          1.7663,
          1.8284,
          2.3866,
          1.4937,
          1.823,
          2.2595,
          1.6079,
          1.9459,
          2.3032,
          1.8456,
          1.7201,
          2.048,
          2.5824,
          1.8714,
          2.4549,
          2.009,
          1.5968,
          1.6061,
          2.1557,
          1.9825,
          2.088,
          1.9485,
          2.334,
          1.7166,
          1.794,
          1.6875,
          1.8298,
          2.199,
          1.9086,
          1.9488,
          2.4655,
          2.0338,
          1.356,
          1.5872,
          1.5341,
          2.1512,
          1.4642,
          2.3208,
          1.4948,
          1.828,
          1.9427,
          2.134,
          2.3781,
          1.7895,
          2.0905,
          2.089,
          1.8824,
          1.7855,
          1.2642,
          2.0075,
          1.958,
          2.5352,
          1.8239,
          1.9556,
          2.1843,
          2.3409,
          2.4391,
          2.2743,
          1.8686,
          2.2197,
          2.2301,
          2.1478,
          2.0539,
          2.2914,
          2.2901,
          2.1092,
          2.4373,
          2.1052,
          2.3609,
          1.9101,
          1.9787,
          1.976,
          2.0462,
          2.6223,
          2.354,
          2.2384,
          2.389,
          1.8435,
          2.4216,
          2.2747,
          2.013,
          1.6611,
          1.8362,
          1.724,
          1.8866,
          1.9384,
          1.3058,
          2.2479,
          2.1717,
          1.9563,
          1.7614,
          2.717,
          2.4653,
          1.3267,
          1.8129,
          2.2956,
          1.9079,
          1.9991,
          1.67,
          2.1784,
          1.3825,
          1.8586,
          1.904,
          1.71,
          2.1215,
          2.1291,
          2.1905,
          2.0632,
          2.2838,
          1.9843,
          1.7074,
          2.3491,
          2.0593,
          1.931,
          2.0504,
          2.021,
          1.9534,
          1.977,
          2.2113,
          1.9741,
          2.3817,
          2.2952,
          1.6396,
          1.7903,
          1.4874,
          1.8159,
          2.128,
          2.09,
          1.8358,
          2.1261,
          1.9046,
          1.29,
          1.9459,
          2.2917,
          1.9222,
          2.1174,
          1.731,
          2.5386,
          1.9221,
          1.9154,
          1.2902,
          2.0849,
          2.6713,
          1.6706,
          2.5573,
          2.0544,
          2.0505,
          1.6663,
          1.3424,
          1.9639,
          1.9864,
          2.199,
          2.0359,
          2.1051,
          2.0427,
          2.3089,
          2.4961,
          1.4937,
          2.0145,
          1.78,
          1.9944,
          1.9151,
          2.2656,
          2.1927,
          1.7351,
          2.4773,
          1.8149,
          1.7646,
          2.3408,
          2.156,
          2.0867,
          2.2251,
          2.1016,
          2.0723,
          1.9216,
          1.9023,
          1.5815,
          1.9681,
          2.2402,
          1.9923,
          1.9404,
          2.3583,
          2.2865,
          2.034,
          2.2249,
          2.1152,
          2.2925,
          2.4533,
          2.2083,
          1.7388,
          2.2822,
          2.6671,
          1.8832,
          2.223,
          2.0296,
          2.3993,
          2.224
         ],
         "y0": " ",
         "yaxis": "y"
        },
        {
         "alignmentgroup": "True",
         "hovertemplate": "Smoking=%{x}<br>estimate=%{y}<extra></extra>",
         "legendgroup": "No",
         "marker": {
          "color": "red"
         },
         "name": "No",
         "notched": false,
         "offsetgroup": "No",
         "orientation": "v",
         "showlegend": true,
         "type": "box",
         "x": [
          "No",
          "No",
          "No",
          "No",
          "No",
          "No",
          "No",
          "No",
          "No",
          "No",
          "No",
          "No",
          "No",
          "No",
          "No",
          "No",
          "No",
          "No",
          "No",
          "No",
          "No",
          "No",
          "No",
          "No",
          "No",
          "No",
          "No",
          "No",
          "No",
          "No",
          "No",
          "No",
          "No",
          "No",
          "No",
          "No",
          "No",
          "No",
          "No",
          "No",
          "No",
          "No",
          "No",
          "No",
          "No",
          "No",
          "No",
          "No",
          "No",
          "No",
          "No",
          "No",
          "No",
          "No",
          "No",
          "No",
          "No",
          "No",
          "No",
          "No",
          "No",
          "No",
          "No",
          "No",
          "No",
          "No",
          "No",
          "No",
          "No",
          "No",
          "No",
          "No",
          "No",
          "No",
          "No",
          "No",
          "No",
          "No",
          "No",
          "No",
          "No",
          "No",
          "No",
          "No",
          "No",
          "No",
          "No",
          "No",
          "No",
          "No",
          "No",
          "No",
          "No",
          "No",
          "No",
          "No",
          "No",
          "No",
          "No",
          "No",
          "No",
          "No",
          "No",
          "No",
          "No",
          "No",
          "No",
          "No",
          "No",
          "No",
          "No",
          "No",
          "No",
          "No",
          "No",
          "No",
          "No",
          "No",
          "No",
          "No",
          "No",
          "No",
          "No",
          "No",
          "No",
          "No",
          "No",
          "No",
          "No",
          "No",
          "No",
          "No",
          "No",
          "No",
          "No",
          "No",
          "No",
          "No",
          "No",
          "No",
          "No",
          "No",
          "No",
          "No",
          "No",
          "No",
          "No",
          "No",
          "No",
          "No",
          "No",
          "No",
          "No",
          "No",
          "No",
          "No",
          "No",
          "No",
          "No",
          "No",
          "No",
          "No",
          "No",
          "No",
          "No",
          "No",
          "No",
          "No",
          "No",
          "No",
          "No",
          "No",
          "No",
          "No",
          "No",
          "No",
          "No",
          "No",
          "No",
          "No",
          "No",
          "No",
          "No",
          "No",
          "No",
          "No",
          "No",
          "No",
          "No",
          "No",
          "No",
          "No",
          "No",
          "No",
          "No",
          "No",
          "No",
          "No",
          "No",
          "No",
          "No",
          "No",
          "No",
          "No",
          "No",
          "No",
          "No",
          "No",
          "No",
          "No",
          "No",
          "No",
          "No",
          "No",
          "No",
          "No",
          "No",
          "No"
         ],
         "x0": " ",
         "xaxis": "x",
         "y": [
          1.9372,
          1.926,
          2.6222,
          2.1292,
          2.1267,
          2.1388,
          2.2966,
          2.1022,
          1.8497,
          2.31,
          2.1492,
          2.4942,
          2.2442,
          1.9087,
          2.5887,
          1.864,
          1.8043,
          1.9551,
          2.0852,
          2.3174,
          2.467,
          2.4923,
          1.6653,
          2.364,
          2.4726,
          2.1069,
          2.1742,
          1.5728,
          2.1484,
          2.0048,
          2.5449,
          1.8294,
          1.7174,
          2.2098,
          2.2189,
          2.6262,
          1.9977,
          2.333,
          2.2969,
          2.6502,
          2.3316,
          1.8228,
          1.9642,
          1.8326,
          2.2831,
          1.9968,
          1.4216,
          1.8229,
          1.8277,
          2.286,
          1.8375,
          2.285,
          2.0197,
          2.0903,
          2.0093,
          2.5791,
          2.4003,
          2.134,
          2.1486,
          1.9425,
          2.6851,
          2.1227,
          2.0112,
          1.9003,
          2.0172,
          2.3991,
          2.4576,
          2.2913,
          2.4823,
          2.4779,
          2.3879,
          1.8522,
          1.9286,
          2.1033,
          2.1281,
          1.8515,
          2.046,
          1.9273,
          1.8869,
          1.7734,
          1.8005,
          2.0607,
          2.1986,
          1.9875,
          2.5613,
          2.2854,
          1.5427,
          1.9399,
          1.424,
          1.827,
          1.7309,
          2.5658,
          2.1007,
          1.6155,
          2.0924,
          2.0092,
          2.3934,
          1.6799,
          2.5093,
          1.8074,
          2.0061,
          1.6612,
          2.0847,
          2.1138,
          2.4307,
          1.8782,
          2.2337,
          1.9877,
          2.0928,
          1.9528,
          1.6981,
          2.1112,
          1.4284,
          2.1099,
          2.029,
          2.3007,
          1.3784,
          2.2555,
          2.0102,
          2.1229,
          1.6695,
          1.5227,
          1.7568,
          2.043,
          2.3977,
          2.1423,
          1.9383,
          2.1996,
          1.9884,
          2.3322,
          2.0356,
          2.5231,
          1.6539,
          1.9661,
          1.9197,
          1.9448,
          1.7074,
          1.6127,
          2.2327,
          1.6453,
          1.9553,
          2.1451,
          2.0853,
          1.9463,
          2.2846,
          2.2379,
          1.8035,
          2.4328,
          2.2598,
          2.3919,
          2.46,
          1.7595,
          2.4918,
          2.3592,
          2.0528,
          1.9997,
          1.7504,
          2.3035,
          1.328,
          1.9528,
          2.3685,
          1.9527,
          1.7146,
          1.747,
          2.2087,
          2.2356,
          1.7832,
          1.7602,
          2.0804,
          1.564,
          2.4453,
          2.3556,
          1.5007,
          2.288,
          1.8962,
          2.0312,
          1.6074,
          2.0022,
          1.9764,
          1.4771,
          1.4066,
          2.2869,
          2.0402,
          2.3572,
          2.0478,
          2.122,
          1.6448,
          2.0627,
          1.8449,
          2.0149,
          1.9997,
          2.4009,
          2.109,
          1.9858,
          2.0537,
          2.3012,
          1.6744,
          2.3947,
          2.2537,
          2.1831,
          1.7,
          1.5426,
          1.705,
          2.3804,
          1.7534,
          2.0073,
          2.7093,
          2.0936,
          2.1223,
          1.8235,
          2.1189,
          1.3044,
          2.3197,
          1.4723,
          2.1007,
          1.9879,
          2.0392,
          1.8771
         ],
         "y0": " ",
         "yaxis": "y"
        }
       ],
       "layout": {
        "annotations": [
         {
          "font": {
           "size": 12
          },
          "showarrow": false,
          "text": "218",
          "x": "Yes",
          "y": 2.767
         },
         {
          "font": {
           "size": 12
          },
          "showarrow": false,
          "text": "218",
          "x": "No",
          "y": 2.7592999999999996
         }
        ],
        "boxmode": "overlay",
        "height": 800,
        "legend": {
         "title": {
          "text": "Smoking"
         },
         "tracegroupgap": 0
        },
        "margin": {
         "t": 60
        },
        "template": {
         "data": {
          "bar": [
           {
            "error_x": {
             "color": "#2a3f5f"
            },
            "error_y": {
             "color": "#2a3f5f"
            },
            "marker": {
             "line": {
              "color": "#E5ECF6",
              "width": 0.5
             },
             "pattern": {
              "fillmode": "overlay",
              "size": 10,
              "solidity": 0.2
             }
            },
            "type": "bar"
           }
          ],
          "barpolar": [
           {
            "marker": {
             "line": {
              "color": "#E5ECF6",
              "width": 0.5
             },
             "pattern": {
              "fillmode": "overlay",
              "size": 10,
              "solidity": 0.2
             }
            },
            "type": "barpolar"
           }
          ],
          "carpet": [
           {
            "aaxis": {
             "endlinecolor": "#2a3f5f",
             "gridcolor": "white",
             "linecolor": "white",
             "minorgridcolor": "white",
             "startlinecolor": "#2a3f5f"
            },
            "baxis": {
             "endlinecolor": "#2a3f5f",
             "gridcolor": "white",
             "linecolor": "white",
             "minorgridcolor": "white",
             "startlinecolor": "#2a3f5f"
            },
            "type": "carpet"
           }
          ],
          "choropleth": [
           {
            "colorbar": {
             "outlinewidth": 0,
             "ticks": ""
            },
            "type": "choropleth"
           }
          ],
          "contour": [
           {
            "colorbar": {
             "outlinewidth": 0,
             "ticks": ""
            },
            "colorscale": [
             [
              0,
              "#0d0887"
             ],
             [
              0.1111111111111111,
              "#46039f"
             ],
             [
              0.2222222222222222,
              "#7201a8"
             ],
             [
              0.3333333333333333,
              "#9c179e"
             ],
             [
              0.4444444444444444,
              "#bd3786"
             ],
             [
              0.5555555555555556,
              "#d8576b"
             ],
             [
              0.6666666666666666,
              "#ed7953"
             ],
             [
              0.7777777777777778,
              "#fb9f3a"
             ],
             [
              0.8888888888888888,
              "#fdca26"
             ],
             [
              1,
              "#f0f921"
             ]
            ],
            "type": "contour"
           }
          ],
          "contourcarpet": [
           {
            "colorbar": {
             "outlinewidth": 0,
             "ticks": ""
            },
            "type": "contourcarpet"
           }
          ],
          "heatmap": [
           {
            "colorbar": {
             "outlinewidth": 0,
             "ticks": ""
            },
            "colorscale": [
             [
              0,
              "#0d0887"
             ],
             [
              0.1111111111111111,
              "#46039f"
             ],
             [
              0.2222222222222222,
              "#7201a8"
             ],
             [
              0.3333333333333333,
              "#9c179e"
             ],
             [
              0.4444444444444444,
              "#bd3786"
             ],
             [
              0.5555555555555556,
              "#d8576b"
             ],
             [
              0.6666666666666666,
              "#ed7953"
             ],
             [
              0.7777777777777778,
              "#fb9f3a"
             ],
             [
              0.8888888888888888,
              "#fdca26"
             ],
             [
              1,
              "#f0f921"
             ]
            ],
            "type": "heatmap"
           }
          ],
          "heatmapgl": [
           {
            "colorbar": {
             "outlinewidth": 0,
             "ticks": ""
            },
            "colorscale": [
             [
              0,
              "#0d0887"
             ],
             [
              0.1111111111111111,
              "#46039f"
             ],
             [
              0.2222222222222222,
              "#7201a8"
             ],
             [
              0.3333333333333333,
              "#9c179e"
             ],
             [
              0.4444444444444444,
              "#bd3786"
             ],
             [
              0.5555555555555556,
              "#d8576b"
             ],
             [
              0.6666666666666666,
              "#ed7953"
             ],
             [
              0.7777777777777778,
              "#fb9f3a"
             ],
             [
              0.8888888888888888,
              "#fdca26"
             ],
             [
              1,
              "#f0f921"
             ]
            ],
            "type": "heatmapgl"
           }
          ],
          "histogram": [
           {
            "marker": {
             "pattern": {
              "fillmode": "overlay",
              "size": 10,
              "solidity": 0.2
             }
            },
            "type": "histogram"
           }
          ],
          "histogram2d": [
           {
            "colorbar": {
             "outlinewidth": 0,
             "ticks": ""
            },
            "colorscale": [
             [
              0,
              "#0d0887"
             ],
             [
              0.1111111111111111,
              "#46039f"
             ],
             [
              0.2222222222222222,
              "#7201a8"
             ],
             [
              0.3333333333333333,
              "#9c179e"
             ],
             [
              0.4444444444444444,
              "#bd3786"
             ],
             [
              0.5555555555555556,
              "#d8576b"
             ],
             [
              0.6666666666666666,
              "#ed7953"
             ],
             [
              0.7777777777777778,
              "#fb9f3a"
             ],
             [
              0.8888888888888888,
              "#fdca26"
             ],
             [
              1,
              "#f0f921"
             ]
            ],
            "type": "histogram2d"
           }
          ],
          "histogram2dcontour": [
           {
            "colorbar": {
             "outlinewidth": 0,
             "ticks": ""
            },
            "colorscale": [
             [
              0,
              "#0d0887"
             ],
             [
              0.1111111111111111,
              "#46039f"
             ],
             [
              0.2222222222222222,
              "#7201a8"
             ],
             [
              0.3333333333333333,
              "#9c179e"
             ],
             [
              0.4444444444444444,
              "#bd3786"
             ],
             [
              0.5555555555555556,
              "#d8576b"
             ],
             [
              0.6666666666666666,
              "#ed7953"
             ],
             [
              0.7777777777777778,
              "#fb9f3a"
             ],
             [
              0.8888888888888888,
              "#fdca26"
             ],
             [
              1,
              "#f0f921"
             ]
            ],
            "type": "histogram2dcontour"
           }
          ],
          "mesh3d": [
           {
            "colorbar": {
             "outlinewidth": 0,
             "ticks": ""
            },
            "type": "mesh3d"
           }
          ],
          "parcoords": [
           {
            "line": {
             "colorbar": {
              "outlinewidth": 0,
              "ticks": ""
             }
            },
            "type": "parcoords"
           }
          ],
          "pie": [
           {
            "automargin": true,
            "type": "pie"
           }
          ],
          "scatter": [
           {
            "fillpattern": {
             "fillmode": "overlay",
             "size": 10,
             "solidity": 0.2
            },
            "type": "scatter"
           }
          ],
          "scatter3d": [
           {
            "line": {
             "colorbar": {
              "outlinewidth": 0,
              "ticks": ""
             }
            },
            "marker": {
             "colorbar": {
              "outlinewidth": 0,
              "ticks": ""
             }
            },
            "type": "scatter3d"
           }
          ],
          "scattercarpet": [
           {
            "marker": {
             "colorbar": {
              "outlinewidth": 0,
              "ticks": ""
             }
            },
            "type": "scattercarpet"
           }
          ],
          "scattergeo": [
           {
            "marker": {
             "colorbar": {
              "outlinewidth": 0,
              "ticks": ""
             }
            },
            "type": "scattergeo"
           }
          ],
          "scattergl": [
           {
            "marker": {
             "colorbar": {
              "outlinewidth": 0,
              "ticks": ""
             }
            },
            "type": "scattergl"
           }
          ],
          "scattermapbox": [
           {
            "marker": {
             "colorbar": {
              "outlinewidth": 0,
              "ticks": ""
             }
            },
            "type": "scattermapbox"
           }
          ],
          "scatterpolar": [
           {
            "marker": {
             "colorbar": {
              "outlinewidth": 0,
              "ticks": ""
             }
            },
            "type": "scatterpolar"
           }
          ],
          "scatterpolargl": [
           {
            "marker": {
             "colorbar": {
              "outlinewidth": 0,
              "ticks": ""
             }
            },
            "type": "scatterpolargl"
           }
          ],
          "scatterternary": [
           {
            "marker": {
             "colorbar": {
              "outlinewidth": 0,
              "ticks": ""
             }
            },
            "type": "scatterternary"
           }
          ],
          "surface": [
           {
            "colorbar": {
             "outlinewidth": 0,
             "ticks": ""
            },
            "colorscale": [
             [
              0,
              "#0d0887"
             ],
             [
              0.1111111111111111,
              "#46039f"
             ],
             [
              0.2222222222222222,
              "#7201a8"
             ],
             [
              0.3333333333333333,
              "#9c179e"
             ],
             [
              0.4444444444444444,
              "#bd3786"
             ],
             [
              0.5555555555555556,
              "#d8576b"
             ],
             [
              0.6666666666666666,
              "#ed7953"
             ],
             [
              0.7777777777777778,
              "#fb9f3a"
             ],
             [
              0.8888888888888888,
              "#fdca26"
             ],
             [
              1,
              "#f0f921"
             ]
            ],
            "type": "surface"
           }
          ],
          "table": [
           {
            "cells": {
             "fill": {
              "color": "#EBF0F8"
             },
             "line": {
              "color": "white"
             }
            },
            "header": {
             "fill": {
              "color": "#C8D4E3"
             },
             "line": {
              "color": "white"
             }
            },
            "type": "table"
           }
          ]
         },
         "layout": {
          "annotationdefaults": {
           "arrowcolor": "#2a3f5f",
           "arrowhead": 0,
           "arrowwidth": 1
          },
          "autotypenumbers": "strict",
          "coloraxis": {
           "colorbar": {
            "outlinewidth": 0,
            "ticks": ""
           }
          },
          "colorscale": {
           "diverging": [
            [
             0,
             "#8e0152"
            ],
            [
             0.1,
             "#c51b7d"
            ],
            [
             0.2,
             "#de77ae"
            ],
            [
             0.3,
             "#f1b6da"
            ],
            [
             0.4,
             "#fde0ef"
            ],
            [
             0.5,
             "#f7f7f7"
            ],
            [
             0.6,
             "#e6f5d0"
            ],
            [
             0.7,
             "#b8e186"
            ],
            [
             0.8,
             "#7fbc41"
            ],
            [
             0.9,
             "#4d9221"
            ],
            [
             1,
             "#276419"
            ]
           ],
           "sequential": [
            [
             0,
             "#0d0887"
            ],
            [
             0.1111111111111111,
             "#46039f"
            ],
            [
             0.2222222222222222,
             "#7201a8"
            ],
            [
             0.3333333333333333,
             "#9c179e"
            ],
            [
             0.4444444444444444,
             "#bd3786"
            ],
            [
             0.5555555555555556,
             "#d8576b"
            ],
            [
             0.6666666666666666,
             "#ed7953"
            ],
            [
             0.7777777777777778,
             "#fb9f3a"
            ],
            [
             0.8888888888888888,
             "#fdca26"
            ],
            [
             1,
             "#f0f921"
            ]
           ],
           "sequentialminus": [
            [
             0,
             "#0d0887"
            ],
            [
             0.1111111111111111,
             "#46039f"
            ],
            [
             0.2222222222222222,
             "#7201a8"
            ],
            [
             0.3333333333333333,
             "#9c179e"
            ],
            [
             0.4444444444444444,
             "#bd3786"
            ],
            [
             0.5555555555555556,
             "#d8576b"
            ],
            [
             0.6666666666666666,
             "#ed7953"
            ],
            [
             0.7777777777777778,
             "#fb9f3a"
            ],
            [
             0.8888888888888888,
             "#fdca26"
            ],
            [
             1,
             "#f0f921"
            ]
           ]
          },
          "colorway": [
           "#636efa",
           "#EF553B",
           "#00cc96",
           "#ab63fa",
           "#FFA15A",
           "#19d3f3",
           "#FF6692",
           "#B6E880",
           "#FF97FF",
           "#FECB52"
          ],
          "font": {
           "color": "#2a3f5f"
          },
          "geo": {
           "bgcolor": "white",
           "lakecolor": "white",
           "landcolor": "#E5ECF6",
           "showlakes": true,
           "showland": true,
           "subunitcolor": "white"
          },
          "hoverlabel": {
           "align": "left"
          },
          "hovermode": "closest",
          "mapbox": {
           "style": "light"
          },
          "paper_bgcolor": "white",
          "plot_bgcolor": "#E5ECF6",
          "polar": {
           "angularaxis": {
            "gridcolor": "white",
            "linecolor": "white",
            "ticks": ""
           },
           "bgcolor": "#E5ECF6",
           "radialaxis": {
            "gridcolor": "white",
            "linecolor": "white",
            "ticks": ""
           }
          },
          "scene": {
           "xaxis": {
            "backgroundcolor": "#E5ECF6",
            "gridcolor": "white",
            "gridwidth": 2,
            "linecolor": "white",
            "showbackground": true,
            "ticks": "",
            "zerolinecolor": "white"
           },
           "yaxis": {
            "backgroundcolor": "#E5ECF6",
            "gridcolor": "white",
            "gridwidth": 2,
            "linecolor": "white",
            "showbackground": true,
            "ticks": "",
            "zerolinecolor": "white"
           },
           "zaxis": {
            "backgroundcolor": "#E5ECF6",
            "gridcolor": "white",
            "gridwidth": 2,
            "linecolor": "white",
            "showbackground": true,
            "ticks": "",
            "zerolinecolor": "white"
           }
          },
          "shapedefaults": {
           "line": {
            "color": "#2a3f5f"
           }
          },
          "ternary": {
           "aaxis": {
            "gridcolor": "white",
            "linecolor": "white",
            "ticks": ""
           },
           "baxis": {
            "gridcolor": "white",
            "linecolor": "white",
            "ticks": ""
           },
           "bgcolor": "#E5ECF6",
           "caxis": {
            "gridcolor": "white",
            "linecolor": "white",
            "ticks": ""
           }
          },
          "title": {
           "x": 0.05
          },
          "xaxis": {
           "automargin": true,
           "gridcolor": "white",
           "linecolor": "white",
           "ticks": "",
           "title": {
            "standoff": 15
           },
           "zerolinecolor": "white",
           "zerolinewidth": 2
          },
          "yaxis": {
           "automargin": true,
           "gridcolor": "white",
           "linecolor": "white",
           "ticks": "",
           "title": {
            "standoff": 15
           },
           "zerolinecolor": "white",
           "zerolinewidth": 2
          }
         }
        },
        "title": {
         "text": "Alpha diversity box-plot KORA (smoking)"
        },
        "width": 500,
        "xaxis": {
         "anchor": "y",
         "categoryarray": [
          "Yes",
          "No"
         ],
         "categoryorder": "array",
         "domain": [
          0,
          1
         ],
         "title": {
          "text": "Smoking"
         }
        },
        "yaxis": {
         "anchor": "x",
         "domain": [
          0,
          1
         ],
         "title": {
          "text": "estimate"
         }
        }
       }
      },
      "text/html": [
       "<div>                            <div id=\"b44a814e-27a6-470d-b6c0-4916d9d0ad9b\" class=\"plotly-graph-div\" style=\"height:800px; width:500px;\"></div>            <script type=\"text/javascript\">                require([\"plotly\"], function(Plotly) {                    window.PLOTLYENV=window.PLOTLYENV || {};                                    if (document.getElementById(\"b44a814e-27a6-470d-b6c0-4916d9d0ad9b\")) {                    Plotly.newPlot(                        \"b44a814e-27a6-470d-b6c0-4916d9d0ad9b\",                        [{\"alignmentgroup\":\"True\",\"hovertemplate\":\"Smoking=%{x}<br>estimate=%{y}<extra></extra>\",\"legendgroup\":\"Yes\",\"marker\":{\"color\":\"green\"},\"name\":\"Yes\",\"notched\":false,\"offsetgroup\":\"Yes\",\"orientation\":\"v\",\"showlegend\":true,\"x\":[\"Yes\",\"Yes\",\"Yes\",\"Yes\",\"Yes\",\"Yes\",\"Yes\",\"Yes\",\"Yes\",\"Yes\",\"Yes\",\"Yes\",\"Yes\",\"Yes\",\"Yes\",\"Yes\",\"Yes\",\"Yes\",\"Yes\",\"Yes\",\"Yes\",\"Yes\",\"Yes\",\"Yes\",\"Yes\",\"Yes\",\"Yes\",\"Yes\",\"Yes\",\"Yes\",\"Yes\",\"Yes\",\"Yes\",\"Yes\",\"Yes\",\"Yes\",\"Yes\",\"Yes\",\"Yes\",\"Yes\",\"Yes\",\"Yes\",\"Yes\",\"Yes\",\"Yes\",\"Yes\",\"Yes\",\"Yes\",\"Yes\",\"Yes\",\"Yes\",\"Yes\",\"Yes\",\"Yes\",\"Yes\",\"Yes\",\"Yes\",\"Yes\",\"Yes\",\"Yes\",\"Yes\",\"Yes\",\"Yes\",\"Yes\",\"Yes\",\"Yes\",\"Yes\",\"Yes\",\"Yes\",\"Yes\",\"Yes\",\"Yes\",\"Yes\",\"Yes\",\"Yes\",\"Yes\",\"Yes\",\"Yes\",\"Yes\",\"Yes\",\"Yes\",\"Yes\",\"Yes\",\"Yes\",\"Yes\",\"Yes\",\"Yes\",\"Yes\",\"Yes\",\"Yes\",\"Yes\",\"Yes\",\"Yes\",\"Yes\",\"Yes\",\"Yes\",\"Yes\",\"Yes\",\"Yes\",\"Yes\",\"Yes\",\"Yes\",\"Yes\",\"Yes\",\"Yes\",\"Yes\",\"Yes\",\"Yes\",\"Yes\",\"Yes\",\"Yes\",\"Yes\",\"Yes\",\"Yes\",\"Yes\",\"Yes\",\"Yes\",\"Yes\",\"Yes\",\"Yes\",\"Yes\",\"Yes\",\"Yes\",\"Yes\",\"Yes\",\"Yes\",\"Yes\",\"Yes\",\"Yes\",\"Yes\",\"Yes\",\"Yes\",\"Yes\",\"Yes\",\"Yes\",\"Yes\",\"Yes\",\"Yes\",\"Yes\",\"Yes\",\"Yes\",\"Yes\",\"Yes\",\"Yes\",\"Yes\",\"Yes\",\"Yes\",\"Yes\",\"Yes\",\"Yes\",\"Yes\",\"Yes\",\"Yes\",\"Yes\",\"Yes\",\"Yes\",\"Yes\",\"Yes\",\"Yes\",\"Yes\",\"Yes\",\"Yes\",\"Yes\",\"Yes\",\"Yes\",\"Yes\",\"Yes\",\"Yes\",\"Yes\",\"Yes\",\"Yes\",\"Yes\",\"Yes\",\"Yes\",\"Yes\",\"Yes\",\"Yes\",\"Yes\",\"Yes\",\"Yes\",\"Yes\",\"Yes\",\"Yes\",\"Yes\",\"Yes\",\"Yes\",\"Yes\",\"Yes\",\"Yes\",\"Yes\",\"Yes\",\"Yes\",\"Yes\",\"Yes\",\"Yes\",\"Yes\",\"Yes\",\"Yes\",\"Yes\",\"Yes\",\"Yes\",\"Yes\",\"Yes\",\"Yes\",\"Yes\",\"Yes\",\"Yes\",\"Yes\",\"Yes\",\"Yes\",\"Yes\",\"Yes\",\"Yes\",\"Yes\",\"Yes\",\"Yes\",\"Yes\",\"Yes\"],\"x0\":\" \",\"xaxis\":\"x\",\"y\":[2.1369,2.2268,2.0301,1.6316,2.2612,2.0463,2.1084,1.7123,2.3561,1.9456,1.6256,2.3294,2.0383,1.9549,2.1036,1.7885,1.9699,2.1995,2.1678,2.3327,2.0259,1.7663,1.8284,2.3866,1.4937,1.823,2.2595,1.6079,1.9459,2.3032,1.8456,1.7201,2.048,2.5824,1.8714,2.4549,2.009,1.5968,1.6061,2.1557,1.9825,2.088,1.9485,2.334,1.7166,1.794,1.6875,1.8298,2.199,1.9086,1.9488,2.4655,2.0338,1.356,1.5872,1.5341,2.1512,1.4642,2.3208,1.4948,1.828,1.9427,2.134,2.3781,1.7895,2.0905,2.089,1.8824,1.7855,1.2642,2.0075,1.958,2.5352,1.8239,1.9556,2.1843,2.3409,2.4391,2.2743,1.8686,2.2197,2.2301,2.1478,2.0539,2.2914,2.2901,2.1092,2.4373,2.1052,2.3609,1.9101,1.9787,1.976,2.0462,2.6223,2.354,2.2384,2.389,1.8435,2.4216,2.2747,2.013,1.6611,1.8362,1.724,1.8866,1.9384,1.3058,2.2479,2.1717,1.9563,1.7614,2.717,2.4653,1.3267,1.8129,2.2956,1.9079,1.9991,1.67,2.1784,1.3825,1.8586,1.904,1.71,2.1215,2.1291,2.1905,2.0632,2.2838,1.9843,1.7074,2.3491,2.0593,1.931,2.0504,2.021,1.9534,1.977,2.2113,1.9741,2.3817,2.2952,1.6396,1.7903,1.4874,1.8159,2.128,2.09,1.8358,2.1261,1.9046,1.29,1.9459,2.2917,1.9222,2.1174,1.731,2.5386,1.9221,1.9154,1.2902,2.0849,2.6713,1.6706,2.5573,2.0544,2.0505,1.6663,1.3424,1.9639,1.9864,2.199,2.0359,2.1051,2.0427,2.3089,2.4961,1.4937,2.0145,1.78,1.9944,1.9151,2.2656,2.1927,1.7351,2.4773,1.8149,1.7646,2.3408,2.156,2.0867,2.2251,2.1016,2.0723,1.9216,1.9023,1.5815,1.9681,2.2402,1.9923,1.9404,2.3583,2.2865,2.034,2.2249,2.1152,2.2925,2.4533,2.2083,1.7388,2.2822,2.6671,1.8832,2.223,2.0296,2.3993,2.224],\"y0\":\" \",\"yaxis\":\"y\",\"type\":\"box\"},{\"alignmentgroup\":\"True\",\"hovertemplate\":\"Smoking=%{x}<br>estimate=%{y}<extra></extra>\",\"legendgroup\":\"No\",\"marker\":{\"color\":\"red\"},\"name\":\"No\",\"notched\":false,\"offsetgroup\":\"No\",\"orientation\":\"v\",\"showlegend\":true,\"x\":[\"No\",\"No\",\"No\",\"No\",\"No\",\"No\",\"No\",\"No\",\"No\",\"No\",\"No\",\"No\",\"No\",\"No\",\"No\",\"No\",\"No\",\"No\",\"No\",\"No\",\"No\",\"No\",\"No\",\"No\",\"No\",\"No\",\"No\",\"No\",\"No\",\"No\",\"No\",\"No\",\"No\",\"No\",\"No\",\"No\",\"No\",\"No\",\"No\",\"No\",\"No\",\"No\",\"No\",\"No\",\"No\",\"No\",\"No\",\"No\",\"No\",\"No\",\"No\",\"No\",\"No\",\"No\",\"No\",\"No\",\"No\",\"No\",\"No\",\"No\",\"No\",\"No\",\"No\",\"No\",\"No\",\"No\",\"No\",\"No\",\"No\",\"No\",\"No\",\"No\",\"No\",\"No\",\"No\",\"No\",\"No\",\"No\",\"No\",\"No\",\"No\",\"No\",\"No\",\"No\",\"No\",\"No\",\"No\",\"No\",\"No\",\"No\",\"No\",\"No\",\"No\",\"No\",\"No\",\"No\",\"No\",\"No\",\"No\",\"No\",\"No\",\"No\",\"No\",\"No\",\"No\",\"No\",\"No\",\"No\",\"No\",\"No\",\"No\",\"No\",\"No\",\"No\",\"No\",\"No\",\"No\",\"No\",\"No\",\"No\",\"No\",\"No\",\"No\",\"No\",\"No\",\"No\",\"No\",\"No\",\"No\",\"No\",\"No\",\"No\",\"No\",\"No\",\"No\",\"No\",\"No\",\"No\",\"No\",\"No\",\"No\",\"No\",\"No\",\"No\",\"No\",\"No\",\"No\",\"No\",\"No\",\"No\",\"No\",\"No\",\"No\",\"No\",\"No\",\"No\",\"No\",\"No\",\"No\",\"No\",\"No\",\"No\",\"No\",\"No\",\"No\",\"No\",\"No\",\"No\",\"No\",\"No\",\"No\",\"No\",\"No\",\"No\",\"No\",\"No\",\"No\",\"No\",\"No\",\"No\",\"No\",\"No\",\"No\",\"No\",\"No\",\"No\",\"No\",\"No\",\"No\",\"No\",\"No\",\"No\",\"No\",\"No\",\"No\",\"No\",\"No\",\"No\",\"No\",\"No\",\"No\",\"No\",\"No\",\"No\",\"No\",\"No\",\"No\",\"No\",\"No\",\"No\",\"No\",\"No\",\"No\",\"No\",\"No\",\"No\",\"No\",\"No\"],\"x0\":\" \",\"xaxis\":\"x\",\"y\":[1.9372,1.926,2.6222,2.1292,2.1267,2.1388,2.2966,2.1022,1.8497,2.31,2.1492,2.4942,2.2442,1.9087,2.5887,1.864,1.8043,1.9551,2.0852,2.3174,2.467,2.4923,1.6653,2.364,2.4726,2.1069,2.1742,1.5728,2.1484,2.0048,2.5449,1.8294,1.7174,2.2098,2.2189,2.6262,1.9977,2.333,2.2969,2.6502,2.3316,1.8228,1.9642,1.8326,2.2831,1.9968,1.4216,1.8229,1.8277,2.286,1.8375,2.285,2.0197,2.0903,2.0093,2.5791,2.4003,2.134,2.1486,1.9425,2.6851,2.1227,2.0112,1.9003,2.0172,2.3991,2.4576,2.2913,2.4823,2.4779,2.3879,1.8522,1.9286,2.1033,2.1281,1.8515,2.046,1.9273,1.8869,1.7734,1.8005,2.0607,2.1986,1.9875,2.5613,2.2854,1.5427,1.9399,1.424,1.827,1.7309,2.5658,2.1007,1.6155,2.0924,2.0092,2.3934,1.6799,2.5093,1.8074,2.0061,1.6612,2.0847,2.1138,2.4307,1.8782,2.2337,1.9877,2.0928,1.9528,1.6981,2.1112,1.4284,2.1099,2.029,2.3007,1.3784,2.2555,2.0102,2.1229,1.6695,1.5227,1.7568,2.043,2.3977,2.1423,1.9383,2.1996,1.9884,2.3322,2.0356,2.5231,1.6539,1.9661,1.9197,1.9448,1.7074,1.6127,2.2327,1.6453,1.9553,2.1451,2.0853,1.9463,2.2846,2.2379,1.8035,2.4328,2.2598,2.3919,2.46,1.7595,2.4918,2.3592,2.0528,1.9997,1.7504,2.3035,1.328,1.9528,2.3685,1.9527,1.7146,1.747,2.2087,2.2356,1.7832,1.7602,2.0804,1.564,2.4453,2.3556,1.5007,2.288,1.8962,2.0312,1.6074,2.0022,1.9764,1.4771,1.4066,2.2869,2.0402,2.3572,2.0478,2.122,1.6448,2.0627,1.8449,2.0149,1.9997,2.4009,2.109,1.9858,2.0537,2.3012,1.6744,2.3947,2.2537,2.1831,1.7,1.5426,1.705,2.3804,1.7534,2.0073,2.7093,2.0936,2.1223,1.8235,2.1189,1.3044,2.3197,1.4723,2.1007,1.9879,2.0392,1.8771],\"y0\":\" \",\"yaxis\":\"y\",\"type\":\"box\"}],                        {\"template\":{\"data\":{\"histogram2dcontour\":[{\"type\":\"histogram2dcontour\",\"colorbar\":{\"outlinewidth\":0,\"ticks\":\"\"},\"colorscale\":[[0.0,\"#0d0887\"],[0.1111111111111111,\"#46039f\"],[0.2222222222222222,\"#7201a8\"],[0.3333333333333333,\"#9c179e\"],[0.4444444444444444,\"#bd3786\"],[0.5555555555555556,\"#d8576b\"],[0.6666666666666666,\"#ed7953\"],[0.7777777777777778,\"#fb9f3a\"],[0.8888888888888888,\"#fdca26\"],[1.0,\"#f0f921\"]]}],\"choropleth\":[{\"type\":\"choropleth\",\"colorbar\":{\"outlinewidth\":0,\"ticks\":\"\"}}],\"histogram2d\":[{\"type\":\"histogram2d\",\"colorbar\":{\"outlinewidth\":0,\"ticks\":\"\"},\"colorscale\":[[0.0,\"#0d0887\"],[0.1111111111111111,\"#46039f\"],[0.2222222222222222,\"#7201a8\"],[0.3333333333333333,\"#9c179e\"],[0.4444444444444444,\"#bd3786\"],[0.5555555555555556,\"#d8576b\"],[0.6666666666666666,\"#ed7953\"],[0.7777777777777778,\"#fb9f3a\"],[0.8888888888888888,\"#fdca26\"],[1.0,\"#f0f921\"]]}],\"heatmap\":[{\"type\":\"heatmap\",\"colorbar\":{\"outlinewidth\":0,\"ticks\":\"\"},\"colorscale\":[[0.0,\"#0d0887\"],[0.1111111111111111,\"#46039f\"],[0.2222222222222222,\"#7201a8\"],[0.3333333333333333,\"#9c179e\"],[0.4444444444444444,\"#bd3786\"],[0.5555555555555556,\"#d8576b\"],[0.6666666666666666,\"#ed7953\"],[0.7777777777777778,\"#fb9f3a\"],[0.8888888888888888,\"#fdca26\"],[1.0,\"#f0f921\"]]}],\"heatmapgl\":[{\"type\":\"heatmapgl\",\"colorbar\":{\"outlinewidth\":0,\"ticks\":\"\"},\"colorscale\":[[0.0,\"#0d0887\"],[0.1111111111111111,\"#46039f\"],[0.2222222222222222,\"#7201a8\"],[0.3333333333333333,\"#9c179e\"],[0.4444444444444444,\"#bd3786\"],[0.5555555555555556,\"#d8576b\"],[0.6666666666666666,\"#ed7953\"],[0.7777777777777778,\"#fb9f3a\"],[0.8888888888888888,\"#fdca26\"],[1.0,\"#f0f921\"]]}],\"contourcarpet\":[{\"type\":\"contourcarpet\",\"colorbar\":{\"outlinewidth\":0,\"ticks\":\"\"}}],\"contour\":[{\"type\":\"contour\",\"colorbar\":{\"outlinewidth\":0,\"ticks\":\"\"},\"colorscale\":[[0.0,\"#0d0887\"],[0.1111111111111111,\"#46039f\"],[0.2222222222222222,\"#7201a8\"],[0.3333333333333333,\"#9c179e\"],[0.4444444444444444,\"#bd3786\"],[0.5555555555555556,\"#d8576b\"],[0.6666666666666666,\"#ed7953\"],[0.7777777777777778,\"#fb9f3a\"],[0.8888888888888888,\"#fdca26\"],[1.0,\"#f0f921\"]]}],\"surface\":[{\"type\":\"surface\",\"colorbar\":{\"outlinewidth\":0,\"ticks\":\"\"},\"colorscale\":[[0.0,\"#0d0887\"],[0.1111111111111111,\"#46039f\"],[0.2222222222222222,\"#7201a8\"],[0.3333333333333333,\"#9c179e\"],[0.4444444444444444,\"#bd3786\"],[0.5555555555555556,\"#d8576b\"],[0.6666666666666666,\"#ed7953\"],[0.7777777777777778,\"#fb9f3a\"],[0.8888888888888888,\"#fdca26\"],[1.0,\"#f0f921\"]]}],\"mesh3d\":[{\"type\":\"mesh3d\",\"colorbar\":{\"outlinewidth\":0,\"ticks\":\"\"}}],\"scatter\":[{\"fillpattern\":{\"fillmode\":\"overlay\",\"size\":10,\"solidity\":0.2},\"type\":\"scatter\"}],\"parcoords\":[{\"type\":\"parcoords\",\"line\":{\"colorbar\":{\"outlinewidth\":0,\"ticks\":\"\"}}}],\"scatterpolargl\":[{\"type\":\"scatterpolargl\",\"marker\":{\"colorbar\":{\"outlinewidth\":0,\"ticks\":\"\"}}}],\"bar\":[{\"error_x\":{\"color\":\"#2a3f5f\"},\"error_y\":{\"color\":\"#2a3f5f\"},\"marker\":{\"line\":{\"color\":\"#E5ECF6\",\"width\":0.5},\"pattern\":{\"fillmode\":\"overlay\",\"size\":10,\"solidity\":0.2}},\"type\":\"bar\"}],\"scattergeo\":[{\"type\":\"scattergeo\",\"marker\":{\"colorbar\":{\"outlinewidth\":0,\"ticks\":\"\"}}}],\"scatterpolar\":[{\"type\":\"scatterpolar\",\"marker\":{\"colorbar\":{\"outlinewidth\":0,\"ticks\":\"\"}}}],\"histogram\":[{\"marker\":{\"pattern\":{\"fillmode\":\"overlay\",\"size\":10,\"solidity\":0.2}},\"type\":\"histogram\"}],\"scattergl\":[{\"type\":\"scattergl\",\"marker\":{\"colorbar\":{\"outlinewidth\":0,\"ticks\":\"\"}}}],\"scatter3d\":[{\"type\":\"scatter3d\",\"line\":{\"colorbar\":{\"outlinewidth\":0,\"ticks\":\"\"}},\"marker\":{\"colorbar\":{\"outlinewidth\":0,\"ticks\":\"\"}}}],\"scattermapbox\":[{\"type\":\"scattermapbox\",\"marker\":{\"colorbar\":{\"outlinewidth\":0,\"ticks\":\"\"}}}],\"scatterternary\":[{\"type\":\"scatterternary\",\"marker\":{\"colorbar\":{\"outlinewidth\":0,\"ticks\":\"\"}}}],\"scattercarpet\":[{\"type\":\"scattercarpet\",\"marker\":{\"colorbar\":{\"outlinewidth\":0,\"ticks\":\"\"}}}],\"carpet\":[{\"aaxis\":{\"endlinecolor\":\"#2a3f5f\",\"gridcolor\":\"white\",\"linecolor\":\"white\",\"minorgridcolor\":\"white\",\"startlinecolor\":\"#2a3f5f\"},\"baxis\":{\"endlinecolor\":\"#2a3f5f\",\"gridcolor\":\"white\",\"linecolor\":\"white\",\"minorgridcolor\":\"white\",\"startlinecolor\":\"#2a3f5f\"},\"type\":\"carpet\"}],\"table\":[{\"cells\":{\"fill\":{\"color\":\"#EBF0F8\"},\"line\":{\"color\":\"white\"}},\"header\":{\"fill\":{\"color\":\"#C8D4E3\"},\"line\":{\"color\":\"white\"}},\"type\":\"table\"}],\"barpolar\":[{\"marker\":{\"line\":{\"color\":\"#E5ECF6\",\"width\":0.5},\"pattern\":{\"fillmode\":\"overlay\",\"size\":10,\"solidity\":0.2}},\"type\":\"barpolar\"}],\"pie\":[{\"automargin\":true,\"type\":\"pie\"}]},\"layout\":{\"autotypenumbers\":\"strict\",\"colorway\":[\"#636efa\",\"#EF553B\",\"#00cc96\",\"#ab63fa\",\"#FFA15A\",\"#19d3f3\",\"#FF6692\",\"#B6E880\",\"#FF97FF\",\"#FECB52\"],\"font\":{\"color\":\"#2a3f5f\"},\"hovermode\":\"closest\",\"hoverlabel\":{\"align\":\"left\"},\"paper_bgcolor\":\"white\",\"plot_bgcolor\":\"#E5ECF6\",\"polar\":{\"bgcolor\":\"#E5ECF6\",\"angularaxis\":{\"gridcolor\":\"white\",\"linecolor\":\"white\",\"ticks\":\"\"},\"radialaxis\":{\"gridcolor\":\"white\",\"linecolor\":\"white\",\"ticks\":\"\"}},\"ternary\":{\"bgcolor\":\"#E5ECF6\",\"aaxis\":{\"gridcolor\":\"white\",\"linecolor\":\"white\",\"ticks\":\"\"},\"baxis\":{\"gridcolor\":\"white\",\"linecolor\":\"white\",\"ticks\":\"\"},\"caxis\":{\"gridcolor\":\"white\",\"linecolor\":\"white\",\"ticks\":\"\"}},\"coloraxis\":{\"colorbar\":{\"outlinewidth\":0,\"ticks\":\"\"}},\"colorscale\":{\"sequential\":[[0.0,\"#0d0887\"],[0.1111111111111111,\"#46039f\"],[0.2222222222222222,\"#7201a8\"],[0.3333333333333333,\"#9c179e\"],[0.4444444444444444,\"#bd3786\"],[0.5555555555555556,\"#d8576b\"],[0.6666666666666666,\"#ed7953\"],[0.7777777777777778,\"#fb9f3a\"],[0.8888888888888888,\"#fdca26\"],[1.0,\"#f0f921\"]],\"sequentialminus\":[[0.0,\"#0d0887\"],[0.1111111111111111,\"#46039f\"],[0.2222222222222222,\"#7201a8\"],[0.3333333333333333,\"#9c179e\"],[0.4444444444444444,\"#bd3786\"],[0.5555555555555556,\"#d8576b\"],[0.6666666666666666,\"#ed7953\"],[0.7777777777777778,\"#fb9f3a\"],[0.8888888888888888,\"#fdca26\"],[1.0,\"#f0f921\"]],\"diverging\":[[0,\"#8e0152\"],[0.1,\"#c51b7d\"],[0.2,\"#de77ae\"],[0.3,\"#f1b6da\"],[0.4,\"#fde0ef\"],[0.5,\"#f7f7f7\"],[0.6,\"#e6f5d0\"],[0.7,\"#b8e186\"],[0.8,\"#7fbc41\"],[0.9,\"#4d9221\"],[1,\"#276419\"]]},\"xaxis\":{\"gridcolor\":\"white\",\"linecolor\":\"white\",\"ticks\":\"\",\"title\":{\"standoff\":15},\"zerolinecolor\":\"white\",\"automargin\":true,\"zerolinewidth\":2},\"yaxis\":{\"gridcolor\":\"white\",\"linecolor\":\"white\",\"ticks\":\"\",\"title\":{\"standoff\":15},\"zerolinecolor\":\"white\",\"automargin\":true,\"zerolinewidth\":2},\"scene\":{\"xaxis\":{\"backgroundcolor\":\"#E5ECF6\",\"gridcolor\":\"white\",\"linecolor\":\"white\",\"showbackground\":true,\"ticks\":\"\",\"zerolinecolor\":\"white\",\"gridwidth\":2},\"yaxis\":{\"backgroundcolor\":\"#E5ECF6\",\"gridcolor\":\"white\",\"linecolor\":\"white\",\"showbackground\":true,\"ticks\":\"\",\"zerolinecolor\":\"white\",\"gridwidth\":2},\"zaxis\":{\"backgroundcolor\":\"#E5ECF6\",\"gridcolor\":\"white\",\"linecolor\":\"white\",\"showbackground\":true,\"ticks\":\"\",\"zerolinecolor\":\"white\",\"gridwidth\":2}},\"shapedefaults\":{\"line\":{\"color\":\"#2a3f5f\"}},\"annotationdefaults\":{\"arrowcolor\":\"#2a3f5f\",\"arrowhead\":0,\"arrowwidth\":1},\"geo\":{\"bgcolor\":\"white\",\"landcolor\":\"#E5ECF6\",\"subunitcolor\":\"white\",\"showland\":true,\"showlakes\":true,\"lakecolor\":\"white\"},\"title\":{\"x\":0.05},\"mapbox\":{\"style\":\"light\"}}},\"xaxis\":{\"anchor\":\"y\",\"domain\":[0.0,1.0],\"title\":{\"text\":\"Smoking\"},\"categoryorder\":\"array\",\"categoryarray\":[\"Yes\",\"No\"]},\"yaxis\":{\"anchor\":\"x\",\"domain\":[0.0,1.0],\"title\":{\"text\":\"estimate\"}},\"legend\":{\"title\":{\"text\":\"Smoking\"},\"tracegroupgap\":0},\"margin\":{\"t\":60},\"boxmode\":\"overlay\",\"height\":800,\"width\":500,\"title\":{\"text\":\"Alpha diversity box-plot KORA (smoking)\"},\"annotations\":[{\"font\":{\"size\":12},\"showarrow\":false,\"text\":\"218\",\"x\":\"Yes\",\"y\":2.767},{\"font\":{\"size\":12},\"showarrow\":false,\"text\":\"218\",\"x\":\"No\",\"y\":2.7592999999999996}]},                        {\"responsive\": true}                    ).then(function(){\n",
       "                            \n",
       "var gd = document.getElementById('b44a814e-27a6-470d-b6c0-4916d9d0ad9b');\n",
       "var x = new MutationObserver(function (mutations, observer) {{\n",
       "        var display = window.getComputedStyle(gd).display;\n",
       "        if (!display || display === 'none') {{\n",
       "            console.log([gd, 'removed!']);\n",
       "            Plotly.purge(gd);\n",
       "            observer.disconnect();\n",
       "        }}\n",
       "}});\n",
       "\n",
       "// Listen for the removal of the full notebook cells\n",
       "var notebookContainer = gd.closest('#notebook-container');\n",
       "if (notebookContainer) {{\n",
       "    x.observe(notebookContainer, {childList: true});\n",
       "}}\n",
       "\n",
       "// Listen for the clearing of the current output cell\n",
       "var outputEl = gd.closest('.output');\n",
       "if (outputEl) {{\n",
       "    x.observe(outputEl, {childList: true});\n",
       "}}\n",
       "\n",
       "                        })                };                });            </script>        </div>"
      ]
     },
     "metadata": {},
     "output_type": "display_data"
    }
   ],
   "source": [
    "# Prepare smoking status DataFrame\n",
    "smoking_df = kora_matched_df[['W_str']].copy()\n",
    "smoking_df.index = kora_matched_df.index.astype(int)\n",
    "\n",
    "# Join alpha diversity with smoking status\n",
    "alpha_div_df = div_net_pd.join(smoking_df)\n",
    "alpha_div_df.rename(columns={'W_str': 'Smoking'}, inplace=True)\n",
    "\n",
    "# Count frequency of each smoking group\n",
    "value_counts = alpha_div_df['Smoking'].value_counts()\n",
    "\n",
    "# Create boxplot\n",
    "fig = px.box(\n",
    "    alpha_div_df,\n",
    "    x=\"Smoking\",\n",
    "    y=\"estimate\",\n",
    "    color=\"Smoking\",\n",
    "    color_discrete_sequence=[\"green\", \"red\"],\n",
    "    width=500,\n",
    "    height=800\n",
    ")\n",
    "\n",
    "annotations = []\n",
    "for index, count in value_counts.items():\n",
    "    annotations.append(\n",
    "        go.layout.Annotation(\n",
    "            x=index,\n",
    "            y=alpha_div_df[alpha_div_df['Smoking'] == index]['estimate'].max() + 0.05,\n",
    "            text=str(count),\n",
    "            showarrow=False,\n",
    "            font=dict(size=12),\n",
    "        )\n",
    "    )\n",
    "\n",
    "fig.update_layout(\n",
    "    title=\"Alpha diversity box-plot KORA (smoking)\",\n",
    "    annotations=annotations\n",
    ")\n",
    "\n",
    "fig.write_image(\"plots/png/alpha_diversity_KORA_smoking.png\")\n",
    "\n",
    "fig.show()"
   ]
  },
  {
   "cell_type": "markdown",
   "id": "4b3606ca",
   "metadata": {},
   "source": [
    "![Alpha diversity KORA Smoking](../plots/png/alpha_diversity_KORA_smoking.png)"
   ]
  }
 ],
 "metadata": {
  "kernelspec": {
   "display_name": "Python 3 (ipykernel)",
   "language": "python",
   "name": "python3"
  },
  "language_info": {
   "codemirror_mode": {
    "name": "ipython",
    "version": 3
   },
   "file_extension": ".py",
   "mimetype": "text/x-python",
   "name": "python",
   "nbconvert_exporter": "python",
   "pygments_lexer": "ipython3",
   "version": "3.10.6"
  }
 },
 "nbformat": 4,
 "nbformat_minor": 5
}
