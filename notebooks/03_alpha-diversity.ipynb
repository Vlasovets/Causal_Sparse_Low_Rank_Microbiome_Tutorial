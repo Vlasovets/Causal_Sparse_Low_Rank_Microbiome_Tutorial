{
 "cells": [
  {
   "cell_type": "code",
   "execution_count": 3,
   "id": "1759c049-5874-4930-a5ad-14ea5d580689",
   "metadata": {
    "tags": []
   },
   "outputs": [],
   "source": [
    "import os\n",
    "import pandas as pd # type: ignore\n",
    "import numpy as np # type: ignore\n",
    "import plotly.express as px\n",
    "import plotly.graph_objects as go\n",
    "\n",
    "from rpy2.robjects.packages import importr\n",
    "from rpy2.robjects import pandas2ri, FloatVector\n",
    "\n",
    "# Convert pandas.DataFrames to R dataframes automatically.\n",
    "pandas2ri.activate()\n",
    "\n",
    "try:\n",
    "    os.chdir('/container/mount/point')\n",
    "except FileNotFoundError:\n",
    "    print(\"Warning: Directory '/container/mount/point' does not exist.\")\n",
    "\n",
    "from utils.preprocessing import filter_and_process_asv_table"
   ]
  },
  {
   "cell_type": "code",
   "execution_count": 4,
   "id": "c5343c18-37c3-4fc5-a04f-573311c248fd",
   "metadata": {
    "tags": []
   },
   "outputs": [],
   "source": [
    "utils = importr('utils')\n",
    "divnet = importr('DivNet')\n",
    "breakaway = importr('breakaway')"
   ]
  },
  {
   "cell_type": "markdown",
   "id": "d8b482ad",
   "metadata": {},
   "source": [
    "### KORA Dataset"
   ]
  },
  {
   "cell_type": "code",
   "execution_count": 5,
   "id": "410def0c",
   "metadata": {},
   "outputs": [
    {
     "name": "stdout",
     "output_type": "stream",
     "text": [
      "ASV table shape (features, samples): (15170, 2034)\n",
      "Matched ASV table shape: (15170, 445)\n",
      "These columns have not variance and will be dropped: Index(['33231', '50139'], dtype='object')\n",
      "Filtered ASV table shape: (1461, 443)\n",
      "Filtered kora_matched_df shape: (443, 80)\n"
     ]
    }
   ],
   "source": [
    "# Load matched dataframe and ASV table\n",
    "kora_matched_df = pd.read_csv(\"data/sample_df_ige_KORA.csv\", index_col=0)\n",
    "asv = pd.read_csv(\"data/feature_table.tsv\", index_col=0, sep='\\t')\n",
    "print(f\"ASV table shape (features, samples): {asv.shape}\")\n",
    "\n",
    "# Ensure sample IDs are strings for both DataFrames\n",
    "kora_ids = kora_matched_df.index.astype(str)\n",
    "asv_ids = asv.columns.astype(str)\n",
    "\n",
    "# Select intersecting sample IDs\n",
    "common_ids = kora_ids.intersection(asv_ids)\n",
    "asv_matched = asv.loc[:, asv.columns.astype(str).isin(common_ids)]\n",
    "print(f\"Matched ASV table shape: {asv_matched.shape}\")\n",
    "\n",
    "# Filter and process ASV table\n",
    "asv_top99_samples, asv_samples_ids = filter_and_process_asv_table(asv_matched, freq_threshold=0.01)\n",
    "print(f\"Filtered ASV table shape: {asv_top99_samples.shape}\")\n",
    "\n",
    "# Filter kora_matched_df to keep only samples in asv_top99_samples\n",
    "filtered_ids = asv_top99_samples.columns.astype(str)\n",
    "filtered_kora_matched_df = kora_matched_df.loc[kora_matched_df.index.astype(str).isin(filtered_ids)]\n",
    "print(f\"Filtered kora_matched_df shape: {filtered_kora_matched_df.shape}\")\n",
    "\n",
    "# Sort ASV table columns to match the order of samples in filtered_kora_matched_df\n",
    "ordered_sample_ids = filtered_kora_matched_df.index.astype(str).tolist()\n",
    "asv_top99_samples = asv_top99_samples[ordered_sample_ids]\n",
    "\n",
    "# Save results\n",
    "filtered_kora_matched_df.to_csv(\"data/filtered_kora_matched_df.csv\", index=True)\n",
    "asv_top99_samples.to_csv(\"data/filtered_kora_asv_top99_samples.csv\", index=True)"
   ]
  },
  {
   "cell_type": "code",
   "execution_count": 13,
   "id": "4118733f",
   "metadata": {},
   "outputs": [
    {
     "name": "stdout",
     "output_type": "stream",
     "text": [
      "class count table shape: (16, 443)\n",
      "domain count table shape: (2, 443)\n",
      "family count table shape: (80, 443)\n",
      "genus count table shape: (397, 443)\n",
      "order count table shape: (41, 443)\n",
      "phylum count table shape: (10, 443)\n",
      "species count table shape: (1349, 443)\n",
      "ASV count table shape: (1461, 443)\n"
     ]
    }
   ],
   "source": [
    "taxonomy_levels = ['domain', 'phylum', 'class', 'order', 'family', 'genus', 'species']\n",
    "\n",
    "# Load taxonomy file\n",
    "taxonomy_df = pd.read_csv(\"data/taxonomy_clean.csv\", index_col=0)\n",
    "\n",
    "# Ensure index names match\n",
    "asv_top99_samples.index.name = taxonomy_df.index.name\n",
    "\n",
    "# Join ASV table with taxonomy\n",
    "join_asv_taxa = asv_top99_samples.join(taxonomy_df)\n",
    "\n",
    "# Aggregate ASV table by taxonomic levels\n",
    "taxa_dict = {}\n",
    "freq_dict = {}\n",
    "\n",
    "# Join 'name' to ASV table\n",
    "ASV_table_with_taxon = asv_top99_samples.join(taxonomy_df['name'])\n",
    "\n",
    "for level in taxonomy_df.columns.difference(['name']):\n",
    "    # Join, group by level, and sum\n",
    "    df_level = asv_top99_samples.join(taxonomy_df[level]).groupby(level).sum()\n",
    "    \n",
    "    # Count non-zero samples per taxon\n",
    "    non_zero_counts = (df_level != 0).sum(axis=1)\n",
    "    non_zero_counts_sorted = non_zero_counts.sort_values(ascending=False).reset_index()\n",
    "    non_zero_counts_sorted.columns = [level, 'count']\n",
    "    freq_dict[level] = non_zero_counts_sorted\n",
    "    \n",
    "    taxa_dict[level] = df_level\n",
    "\n",
    "taxa_dict[\"ASV\"] = asv_top99_samples\n",
    "\n",
    "for level in taxa_dict.keys():\n",
    "    print(f\"{level} count table shape: {taxa_dict[level].shape}\")\n",
    "\n",
    "pd.set_option('display.max_colwidth', None)"
   ]
  },
  {
   "cell_type": "code",
   "execution_count": null,
   "id": "bbf386a7",
   "metadata": {},
   "outputs": [
    {
     "name": "stdout",
     "output_type": "stream",
     "text": [
      "                                      family  count\n",
      "0                        f__Lachnospiraceae;    443\n",
      "1                       f__Oscillospiraceae;    443\n",
      "2                        f__Ruminococcaceae;    442\n",
      "3                         f__Bacteroidaceae;    441\n",
      "4                          f__Rikenellaceae;    429\n",
      "5                         f__Sutterellaceae;    415\n",
      "6                         f__Tannerellaceae;    411\n",
      "7  f__[Eubacterium]_coprostanoligenes_group;    403\n",
      "8              f__Erysipelatoclostridiaceae;    388\n",
      "9                        f__Eggerthellaceae;    380\n",
      "  |                                                                      |   0%"
     ]
    }
   ],
   "source": [
    "lvl = \"family\"\n",
    "dataset = \"kora\"\n",
    "print(freq_dict[lvl][~freq_dict[lvl][lvl].str.contains('unknown')].head(10))\n",
    "\n",
    "base_taxon = 'f__Lachnospiraceae;'\n",
    "\n",
    "# Run divnet (samples as rows, taxa as columns)\n",
    "divnet_stat = divnet.divnet(taxa_dict['family'].T, base=base_taxon, ncores=4)\n",
    "\n",
    "shannon = divnet_stat[0]\n",
    "\n",
    "div_net_dict = {}\n",
    "\n",
    "for i in range(len(shannon)):\n",
    "    sample_id = shannon.names[i]\n",
    "    estimate = round(float(shannon[i][0]), 4)\n",
    "    error = round(float(shannon[i][1]), 4)\n",
    "    div_net_dict[sample_id] = (estimate, error)\n",
    "\n",
    "div_net_pd = pd.DataFrame.from_dict(div_net_dict, orient='index', columns=['estimate', 'error'])\n",
    "\n",
    "div_net_pd.to_csv(f\"data/divnet_{dataset}.csv\")\n",
    "\n",
    "div_net_pd = pd.read_csv(f\"data/divnet_{dataset}.csv\", index_col=0)"
   ]
  },
  {
   "cell_type": "markdown",
   "id": "954b6cd4-5fdd-4a61-b5e1-066adb8da7e0",
   "metadata": {},
   "source": [
    "\"Ecologists who are interested in the way species richness varies with covariate information often run a regression-type analysis on the observed diversity using their covariate information as predictors. However, in many settings (especially microbial), rare and unobserved taxa play a hugely important role in explaining the subtleties of the ecosystem, however, a regression analysis on the observed diversity level fails to account for these unobserved taxa. By predicting the total level of diversity (for example, via breakaway) and estimating the standard error in the estimate, one can take account of these unobserved, but important, taxa. In order to account for the estimated nature of the response, a mixed model approach is taken, whereby the varying levels of confidence in the estimates contributes to a diagonal but heteroscedastic covariance matrix. Given covariates constitute the fixed effects in the mixed model, and significance of the random effect term sigsq_u reflects heterogeneity in the sample, that is, variability that cannot be explained by only the covariates. The authors believe this to be the first attempt at modelling total diversity in a way that accounts for its estimated nature\"."
   ]
  },
  {
   "cell_type": "markdown",
   "id": "8849f77b-3403-491c-92ae-8442a10359b0",
   "metadata": {},
   "source": [
    "This function tests for heterogeneity of total diversity (observed plus unobserved) across multiple sites. It can account or test for fixed effects that may explain diversity. It returns the significance of the covariates in explaining diversity and a hypothesis test for heterogeneity."
   ]
  },
  {
   "cell_type": "code",
   "execution_count": null,
   "id": "62a46b57-7cc7-48e7-b6d5-f16628cf651f",
   "metadata": {
    "tags": []
   },
   "outputs": [],
   "source": [
    "# Convert estimates and errors to R vectors\n",
    "estimates = FloatVector(div_net_pd['estimate'])\n",
    "errors = FloatVector(div_net_pd['error'])\n",
    "\n",
    "# Prepare design matrix with intercept\n",
    "W = filtered_kora_matched_df['W'].reset_index(drop=True)\n",
    "intercept = pd.Series(1, index=W.index, name='intercept')\n",
    "design_matrix = pd.concat([intercept, W], axis=1)\n",
    "\n",
    "# Run breakaway betta\n",
    "betta_result = breakaway.betta(chats=estimates, ses=errors, X=design_matrix)\n",
    "\n",
    "# Create results DataFrame\n",
    "betta_table = pd.DataFrame(betta_result[0], columns=['estimate', 'error', 'p_value'])\n",
    "observed_estimate = betta_table.loc[1, 'estimate']\n",
    "print(f\" Beta table: {betta_table}\")\n",
    "\n",
    "# Save results\n",
    "betta_table.to_csv(f'data/plugin_alphadiv_{dataset}.csv', index=False)"
   ]
  },
  {
   "cell_type": "code",
   "execution_count": null,
   "id": "9d64f09e-8d57-47c0-a3af-99ddde6328d6",
   "metadata": {
    "tags": []
   },
   "outputs": [],
   "source": [
    "# Prepare smoking status DataFrame\n",
    "smoking_df = filtered_kora_matched_df[['u3_16s_id', 'W_str']].set_index('u3_16s_id')\n",
    "smoking_df.index = smoking_df.index.astype(int)\n",
    "\n",
    "# Ensure matching index types for join\n",
    "div_net_pd.index = div_net_pd.index.astype(int)\n",
    "\n",
    "# Join alpha diversity with smoking status\n",
    "alpha_div_df = div_net_pd.join(smoking_df)\n",
    "alpha_div_df.rename(columns={'W_str': 'Smoker'}, inplace=True)\n",
    "\n",
    "# Create boxplot\n",
    "fig = px.box(\n",
    "    alpha_div_df,\n",
    "    x=\"Smoker\",\n",
    "    y=\"estimate\",\n",
    "    color=\"Smoker\",\n",
    "    color_discrete_sequence=[\"green\", \"red\"],\n",
    "    width=500,\n",
    "    height=800\n",
    ")\n",
    "\n",
    "fig.write_image(\"plots/png/alpha_diversity_KORA_smoking.png\")\n",
    "\n",
    "fig.show()"
   ]
  }
 ],
 "metadata": {
  "kernelspec": {
   "display_name": "Python 3 (ipykernel)",
   "language": "python",
   "name": "python3"
  },
  "language_info": {
   "codemirror_mode": {
    "name": "ipython",
    "version": 3
   },
   "file_extension": ".py",
   "mimetype": "text/x-python",
   "name": "python",
   "nbconvert_exporter": "python",
   "pygments_lexer": "ipython3",
   "version": "3.10.6"
  }
 },
 "nbformat": 4,
 "nbformat_minor": 5
}
