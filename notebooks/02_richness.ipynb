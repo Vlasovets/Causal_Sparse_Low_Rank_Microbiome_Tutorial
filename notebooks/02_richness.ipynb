{
 "cells": [
  {
   "cell_type": "code",
   "execution_count": null,
   "id": "77c1066b-927c-4feb-a8ab-6becb2f37009",
   "metadata": {
    "tags": []
   },
   "outputs": [],
   "source": [
    "import os\n",
    "import pandas as pd # type: ignore\n",
    "import numpy as np # type: ignore\n",
    "import plotly.express as px\n",
    "import plotly.graph_objects as go\n",
    "\n",
    "from rpy2.robjects.packages import importr\n",
    "from rpy2.robjects import pandas2ri, FloatVector\n",
    "\n",
    "from utils.preprocessing import filter_and_process_asv_table\n",
    "\n",
    "# Convert pandas.DataFrames to R dataframes automatically.\n",
    "pandas2ri.activate()\n",
    "\n",
    "try:\n",
    "    os.chdir('/container/mount/point')\n",
    "except FileNotFoundError:\n",
    "    print(\"Warning: Directory '/container/mount/point' does not exist.\")"
   ]
  },
  {
   "cell_type": "code",
   "execution_count": 33,
   "id": "12c98e21-62a2-42de-8969-6bd67ccf306b",
   "metadata": {
    "tags": []
   },
   "outputs": [],
   "source": [
    "base = importr('base')\n",
    "utils = importr('utils')\n",
    "devtools = importr('devtools')\n",
    "breakaway = importr('breakaway')"
   ]
  },
  {
   "cell_type": "markdown",
   "id": "67b98841",
   "metadata": {},
   "source": [
    "### KORA Dataset"
   ]
  },
  {
   "cell_type": "code",
   "execution_count": 52,
   "id": "ef533473",
   "metadata": {},
   "outputs": [
    {
     "name": "stdout",
     "output_type": "stream",
     "text": [
      "ASV table shape (features, samples): (15170, 2034)\n",
      "Matched ASV table shape: (15170, 445)\n",
      "These columns have not variance and will be dropped: Index(['33231', '50139'], dtype='object')\n",
      "Filtered ASV table shape: (1461, 443)\n",
      "Filtered kora_matched_df shape: (443, 80)\n"
     ]
    }
   ],
   "source": [
    "# Load matched dataframe and ASV table\n",
    "kora_matched_df = pd.read_csv(\"data/sample_df_ige_KORA.csv\", index_col=0)\n",
    "asv = pd.read_csv(\"data/feature_table.tsv\", index_col=0, sep='\\t')\n",
    "print(f\"ASV table shape (features, samples): {asv.shape}\")\n",
    "\n",
    "# Ensure sample IDs are strings for both DataFrames\n",
    "kora_ids = kora_matched_df.index.astype(str)\n",
    "asv_ids = asv.columns.astype(str)\n",
    "\n",
    "# Select intersecting sample IDs\n",
    "common_ids = kora_ids.intersection(asv_ids)\n",
    "asv_matched = asv.loc[:, asv.columns.astype(str).isin(common_ids)]\n",
    "print(f\"Matched ASV table shape: {asv_matched.shape}\")\n",
    "\n",
    "# Filter and process ASV table\n",
    "asv_top99_samples, asv_samples_ids = filter_and_process_asv_table(asv_matched, freq_threshold=0.01)\n",
    "print(f\"Filtered ASV table shape: {asv_top99_samples.shape}\")\n",
    "\n",
    "# Filter kora_matched_df to keep only samples in asv_top99_samples\n",
    "filtered_ids = asv_top99_samples.columns.astype(str)\n",
    "filtered_kora_matched_df = kora_matched_df.loc[kora_matched_df.index.astype(str).isin(filtered_ids)]\n",
    "print(f\"Filtered kora_matched_df shape: {filtered_kora_matched_df.shape}\")\n",
    "\n",
    "# Save results\n",
    "filtered_kora_matched_df.to_csv(\"data/filtered_kora_matched_df.csv\", index=True)\n",
    "asv_top99_samples.to_csv(\"data/filtered_kora_asv_top99_samples.csv\", index=True)"
   ]
  },
  {
   "cell_type": "markdown",
   "id": "796b55d8-b4b7-4897-89de-56453d501101",
   "metadata": {},
   "source": [
    "### Richness estimation"
   ]
  },
  {
   "cell_type": "markdown",
   "id": "2759ce61-7add-4964-8658-fca37e83e495",
   "metadata": {},
   "source": [
    "‘breakaway’ presents an estimator of species richness that is well-suited to the high-diversity/microbial setting. However, many microbial datasets display more diversity than the Kemp-type models can permit. In this case, the log-transformed WLRM diversity estimator of Rocchetti et. al. (2011) is returned. The authors’ experience suggests that some datasets that require the log-transformed WLRM contain “false” diversity, that is, diversity attributable to sequencing errors (via an inflated singleton count). The authors encourage judicious use of diversity estimators when the dataset may contain these errors, and recommend the use of breakaway_nof1 as an exploratory tool in this case.\n",
    "\n",
    "Ecologists who are interested in the way species richness varies with covariate information often run a regression-type analysis on the observed diversity using their covariate information as predictors. However, in many settings (especially microbial), rare and unobserved taxa play a hugely important role in explaining the subtleties of the ecosystem, however, a regression analysis on the observed diversity level fails to account for these unobserved taxa. By predicting the total level of diversity (for example, via breakaway) and estimating the standard error in the estimate, one can take account of these unobserved, but important, taxa. In order to account for the estimated nature of the response, a mixed model approach is taken, whereby the varying levels of confidence in the estimates contributes to a diagonal but heteroscedastic covariance matrix. Given covariates constitute the fixed effects in the mixed model, and significance of the random effect term sigsq_u reflects heterogeneity in the sample, that is, variability that cannot be explained by only the covariates. The authors believe this to be the first attempt at modelling total diversity in a way that accounts for its estimated nature."
   ]
  },
  {
   "cell_type": "code",
   "execution_count": 61,
   "id": "60dfb96a",
   "metadata": {},
   "outputs": [
    {
     "name": "stdout",
     "output_type": "stream",
     "text": [
      "                  est       err  p-values\n",
      "intercept  123.480469  1.690058     0.000\n",
      "W           -7.954298  2.378187     0.001\n"
     ]
    }
   ],
   "source": [
    "# Run breakaway and summarize results\n",
    "ba = breakaway.breakaway(asv_top99_samples)\n",
    "summary = base.summary(ba)\n",
    "\n",
    "# Convert summary to dictionary and round estimates/errors\n",
    "sum_dict = dict(zip(summary.names, map(list, summary)))\n",
    "estimate = np.round(sum_dict['estimate'], 4)\n",
    "error = np.round(sum_dict['error'], 4)\n",
    "\n",
    "# Prepare vectors for betta\n",
    "es = FloatVector(estimate)\n",
    "er = FloatVector(error)\n",
    "\n",
    "# Prepare design matrix with intercept\n",
    "W = filtered_kora_matched_df['W'].reset_index(drop=True)\n",
    "x = pd.DataFrame({'intercept': 1, 'W': W})\n",
    "\n",
    "# Run betta analysis\n",
    "betta = breakaway.betta(chats=es, ses=er, X=x)\n",
    "\n",
    "# Create results table and save\n",
    "betta_table = pd.DataFrame(betta[0], columns=['est', 'err', 'p-values'], index=x.columns)\n",
    "print(betta_table)\n",
    "betta_table.to_csv(\"data/betta_table.csv\")"
   ]
  },
  {
   "cell_type": "code",
   "execution_count": 75,
   "id": "5408bd71",
   "metadata": {},
   "outputs": [
    {
     "data": {
      "application/vnd.plotly.v1+json": {
       "config": {
        "plotlyServerURL": "https://plot.ly"
       },
       "data": [
        {
         "alignmentgroup": "True",
         "hovertemplate": "Smoking=%{x}<br>estimate=%{y}<extra></extra>",
         "legendgroup": "Yes",
         "marker": {
          "color": "green"
         },
         "name": "Yes",
         "notched": false,
         "offsetgroup": "Yes",
         "orientation": "v",
         "showlegend": true,
         "type": "box",
         "x": [
          "Yes",
          "Yes",
          "Yes",
          "Yes",
          "Yes",
          "Yes",
          "Yes",
          "Yes",
          "Yes",
          "Yes",
          "Yes",
          "Yes",
          "Yes",
          "Yes",
          "Yes",
          "Yes",
          "Yes",
          "Yes",
          "Yes",
          "Yes",
          "Yes",
          "Yes",
          "Yes",
          "Yes",
          "Yes",
          "Yes",
          "Yes",
          "Yes",
          "Yes",
          "Yes",
          "Yes",
          "Yes",
          "Yes",
          "Yes",
          "Yes",
          "Yes",
          "Yes",
          "Yes",
          "Yes",
          "Yes",
          "Yes",
          "Yes",
          "Yes",
          "Yes",
          "Yes",
          "Yes",
          "Yes",
          "Yes",
          "Yes",
          "Yes",
          "Yes",
          "Yes",
          "Yes",
          "Yes",
          "Yes",
          "Yes",
          "Yes",
          "Yes",
          "Yes",
          "Yes",
          "Yes",
          "Yes",
          "Yes",
          "Yes",
          "Yes",
          "Yes",
          "Yes",
          "Yes",
          "Yes",
          "Yes",
          "Yes",
          "Yes",
          "Yes",
          "Yes",
          "Yes",
          "Yes",
          "Yes",
          "Yes",
          "Yes",
          "Yes",
          "Yes",
          "Yes",
          "Yes",
          "Yes",
          "Yes",
          "Yes",
          "Yes",
          "Yes",
          "Yes",
          "Yes",
          "Yes",
          "Yes",
          "Yes",
          "Yes",
          "Yes",
          "Yes",
          "Yes",
          "Yes",
          "Yes",
          "Yes",
          "Yes",
          "Yes",
          "Yes",
          "Yes",
          "Yes",
          "Yes",
          "Yes",
          "Yes",
          "Yes",
          "Yes",
          "Yes",
          "Yes",
          "Yes",
          "Yes",
          "Yes",
          "Yes",
          "Yes",
          "Yes",
          "Yes",
          "Yes",
          "Yes",
          "Yes",
          "Yes",
          "Yes",
          "Yes",
          "Yes",
          "Yes",
          "Yes",
          "Yes",
          "Yes",
          "Yes",
          "Yes",
          "Yes",
          "Yes",
          "Yes",
          "Yes",
          "Yes",
          "Yes",
          "Yes",
          "Yes",
          "Yes",
          "Yes",
          "Yes",
          "Yes",
          "Yes",
          "Yes",
          "Yes",
          "Yes",
          "Yes",
          "Yes",
          "Yes",
          "Yes",
          "Yes",
          "Yes",
          "Yes",
          "Yes",
          "Yes",
          "Yes",
          "Yes",
          "Yes",
          "Yes",
          "Yes",
          "Yes",
          "Yes",
          "Yes",
          "Yes",
          "Yes",
          "Yes",
          "Yes",
          "Yes",
          "Yes",
          "Yes",
          "Yes",
          "Yes",
          "Yes",
          "Yes",
          "Yes",
          "Yes",
          "Yes",
          "Yes",
          "Yes",
          "Yes",
          "Yes",
          "Yes",
          "Yes",
          "Yes",
          "Yes",
          "Yes",
          "Yes",
          "Yes",
          "Yes",
          "Yes",
          "Yes",
          "Yes",
          "Yes",
          "Yes",
          "Yes",
          "Yes",
          "Yes",
          "Yes",
          "Yes",
          "Yes",
          "Yes",
          "Yes",
          "Yes",
          "Yes",
          "Yes",
          "Yes",
          "Yes",
          "Yes",
          "Yes",
          "Yes",
          "Yes",
          "Yes",
          "Yes",
          "Yes",
          "Yes",
          "Yes",
          "Yes",
          "Yes"
         ],
         "x0": " ",
         "xaxis": "x",
         "y": [
          107.25,
          100.01402004451032,
          142.08333333333334,
          119.0083346572763,
          162.09669236957737,
          121.14285714285714,
          95.27272727272727,
          153.6978993070913,
          197.04262375961724,
          177.90018610961667,
          94.00543634868919,
          122.0602400986406,
          104.33333333333333,
          127.11289174844634,
          140.5,
          144.25,
          130.1194022361609,
          116.05560427754529,
          142.45333333333335,
          119.01829035945637,
          101.00639822096375,
          77.03834779614364,
          72.27272727272727,
          101.92857142857143,
          148.5354143246887,
          89.03033366735566,
          138.1578947368421,
          119.05039302506337,
          91.01213456401204,
          134,
          146.03284960648978,
          67.02519651253168,
          71.01156679730076,
          124,
          73.01278259871455,
          123.92924791753383,
          80.05636934423379,
          750.9473684210864,
          96.25,
          89.0278188402923,
          113.0202095773322,
          111.25,
          94.2439024390244,
          151.02112819448365,
          80.03818676158265,
          146.01852942180102,
          65.01107333395322,
          103.8944182918628,
          92.00614413768952,
          84.03043551602906,
          195.73170731707316,
          109.36553981930979,
          81.02999333337543,
          133.91543677702433,
          135.0625,
          98.01890582622156,
          85.01619687584912,
          50.001345918934106,
          87.0159766860417,
          60.25,
          137.25,
          44.031627237351685,
          109.08571690210913,
          115.00924622858084,
          122.01759475625775,
          115.04083935417137,
          91.01685310422832,
          102,
          103.15254237288136,
          96.11293812322671,
          76.125,
          79.02805779615178,
          146.04963475980028,
          110.5,
          120.09261685775344,
          140.03305451977758,
          74.0033342096425,
          137,
          89.02221310999911,
          136.0380644466457,
          90.00861927706474,
          114.02587841421871,
          104.02363228277694,
          94.17391304347827,
          151.02239739064544,
          111.31290227708769,
          177.4297160066289,
          100.01566398834471,
          146.00643645090588,
          104.05248583416795,
          147.27766626809978,
          93.01107333395322,
          170.5,
          137.0903535147884,
          62.02107853285199,
          91,
          145.0271923805673,
          173.2680052378874,
          124.06924681613769,
          193.06220318138355,
          105.25,
          152.0184034608571,
          139.42535924593525,
          92.01985070968907,
          98.01398240266343,
          73.01278259871455,
          77.25,
          147.0050261824559,
          124.67022657221652,
          99.03279653070256,
          124.63398976095222,
          101.0101047886661,
          99.0184301876749,
          54.00144546259577,
          66.02956520404024,
          147,
          242.09314475953184,
          112.25714285714287,
          102.01985070968907,
          141.91176470588235,
          55.25,
          93.03536644047787,
          94.27272727272727,
          124.01542239640101,
          143.5,
          114.08300476757225,
          113.01775161974875,
          174.03881762132806,
          105.00691799227425,
          87.8,
          123.5,
          186.89295698141206,
          83.00313705116959,
          102.90799679662024,
          150.03502620555315,
          136.02390906389718,
          94.02775091059448,
          119.8108108108108,
          99.02291541480561,
          121.03183233381822,
          123.25,
          106.15789473684211,
          94,
          156.04680421815453,
          176.5,
          108.254356031229,
          76.01812465401358,
          72.05704856288386,
          120.01036676664735,
          130.4348313347529,
          154.0456022720767,
          149.01195212151362,
          158.27970520194705,
          91.01824776384682,
          79.14285714285714,
          147.05045620108086,
          144.03378528015128,
          136,
          110.33333333333333,
          105,
          178.0280885070472,
          103.02027329782462,
          118.03575137534065,
          72.00857455929065,
          154.05022126827797,
          185.0588154955497,
          99.01417936966617,
          186.08032939550574,
          138.42550337449845,
          194.70243599198182,
          91.00444561285667,
          87.01980771023011,
          113.01930585598433,
          113.01565241177865,
          151.55458515283843,
          141.01561649157486,
          129.01748626324786,
          183.98705190516316,
          154.25,
          153.46153846153845,
          80.07141337833175,
          114.02699479308187,
          78.0102984463775,
          141.0280885070472,
          120.0529992482079,
          112.25,
          116.53451996679892,
          72.00661138701227,
          173.14893617021278,
          106.06325447470337,
          84.03284960648978,
          131.01379651136241,
          90.00613317961749,
          127.4416568782502,
          101.03585937170652,
          82.47169734178271,
          115.08333333333333,
          84.04939256372093,
          145.0225099677593,
          44.01278259871455,
          89.12799616483133,
          145.03078709412418,
          107.0218731237839,
          130.84229961852915,
          165.0690399335977,
          128.023368981947,
          102.5396558588591,
          133.0456022720767,
          119,
          136.0419941875528,
          137.67312758415508,
          117.05297901113491,
          108.01595766661151,
          182.53289297888705,
          118.03670973300517,
          140.05913040808048,
          135.02013561314365,
          151.03539139204486,
          107.07483401225554,
          116.00576928227784
         ],
         "y0": " ",
         "yaxis": "y"
        },
        {
         "alignmentgroup": "True",
         "hovertemplate": "Smoking=%{x}<br>estimate=%{y}<extra></extra>",
         "legendgroup": "No",
         "marker": {
          "color": "red"
         },
         "name": "No",
         "notched": false,
         "offsetgroup": "No",
         "orientation": "v",
         "showlegend": true,
         "type": "box",
         "x": [
          "No",
          "No",
          "No",
          "No",
          "No",
          "No",
          "No",
          "No",
          "No",
          "No",
          "No",
          "No",
          "No",
          "No",
          "No",
          "No",
          "No",
          "No",
          "No",
          "No",
          "No",
          "No",
          "No",
          "No",
          "No",
          "No",
          "No",
          "No",
          "No",
          "No",
          "No",
          "No",
          "No",
          "No",
          "No",
          "No",
          "No",
          "No",
          "No",
          "No",
          "No",
          "No",
          "No",
          "No",
          "No",
          "No",
          "No",
          "No",
          "No",
          "No",
          "No",
          "No",
          "No",
          "No",
          "No",
          "No",
          "No",
          "No",
          "No",
          "No",
          "No",
          "No",
          "No",
          "No",
          "No",
          "No",
          "No",
          "No",
          "No",
          "No",
          "No",
          "No",
          "No",
          "No",
          "No",
          "No",
          "No",
          "No",
          "No",
          "No",
          "No",
          "No",
          "No",
          "No",
          "No",
          "No",
          "No",
          "No",
          "No",
          "No",
          "No",
          "No",
          "No",
          "No",
          "No",
          "No",
          "No",
          "No",
          "No",
          "No",
          "No",
          "No",
          "No",
          "No",
          "No",
          "No",
          "No",
          "No",
          "No",
          "No",
          "No",
          "No",
          "No",
          "No",
          "No",
          "No",
          "No",
          "No",
          "No",
          "No",
          "No",
          "No",
          "No",
          "No",
          "No",
          "No",
          "No",
          "No",
          "No",
          "No",
          "No",
          "No",
          "No",
          "No",
          "No",
          "No",
          "No",
          "No",
          "No",
          "No",
          "No",
          "No",
          "No",
          "No",
          "No",
          "No",
          "No",
          "No",
          "No",
          "No",
          "No",
          "No",
          "No",
          "No",
          "No",
          "No",
          "No",
          "No",
          "No",
          "No",
          "No",
          "No",
          "No",
          "No",
          "No",
          "No",
          "No",
          "No",
          "No",
          "No",
          "No",
          "No",
          "No",
          "No",
          "No",
          "No",
          "No",
          "No",
          "No",
          "No",
          "No",
          "No",
          "No",
          "No",
          "No",
          "No",
          "No",
          "No",
          "No",
          "No",
          "No",
          "No",
          "No",
          "No",
          "No",
          "No",
          "No",
          "No",
          "No",
          "No",
          "No",
          "No",
          "No",
          "No",
          "No",
          "No",
          "No",
          "No",
          "No",
          "No",
          "No",
          "No",
          "No",
          "No",
          "No",
          "No",
          "No",
          "No",
          "No",
          "No",
          "No",
          "No",
          "No"
         ],
         "x0": " ",
         "xaxis": "x",
         "y": [
          123.50891793214555,
          93.09478803383183,
          105.2,
          136.59067357512953,
          121.01777863356415,
          164.04209627975544,
          139.0349917911214,
          80.0253054189906,
          163.25,
          158.03078709412418,
          45.035485428489025,
          153.47151393726986,
          229.6022829973191,
          149.125,
          143.03432327158907,
          182.04119378551002,
          104.03305451977756,
          200.0965798140427,
          139.03502620555315,
          175.10855337401628,
          152.05044590057335,
          171.63825698622384,
          63.03513088808664,
          75.25,
          185.80750237022528,
          147.9231067024888,
          187.05170199756597,
          115.02887861892482,
          115.03426680108888,
          87.93031984044973,
          123.26108268962706,
          112.0084156021791,
          113.25,
          75.33333333333333,
          81.01940518119808,
          165.55523923437758,
          167.07558953759505,
          146.2292986535096,
          119.45950285188647,
          141.03670973300515,
          189.25,
          119.12417122249744,
          95.03043551602906,
          97.46153846153845,
          137.0472340297416,
          78.04242916389099,
          135.125,
          112.08333333333333,
          42.010298446377504,
          106.0554765667186,
          126.5631067961165,
          80.04409460443031,
          110.02046051429626,
          111.26372472814533,
          245.4000000000009,
          151.26928624358573,
          140.0287079473033,
          119.02580727579421,
          194.25,
          149.05083273683218,
          115.1098712143576,
          165.0935195297249,
          95.0129036378971,
          221.01105242564086,
          152.63383150947317,
          110.04485422396684,
          137.06747198298152,
          113.01565241177865,
          172.33333333333334,
          123.01000262892752,
          92.11293812322671,
          191.3064100825349,
          140.0240936811604,
          118.46153846153845,
          192.80241006190542,
          127.02965994962217,
          156,
          82.125,
          113.0231335946015,
          125.80510494900429,
          181.09815569897057,
          138.03300128674152,
          94.06624690179638,
          95.00946807727317,
          87.00528828740373,
          151.28047730755648,
          106.03536644047787,
          91.5,
          216.25,
          138.40147426665027,
          84.02842142651402,
          100.01278259871455,
          144,
          60.006398220963746,
          105,
          74.06523029127521,
          59.00841165236919,
          171.67446455930866,
          104.02205466090635,
          179.4925406171145,
          161.0159576666115,
          151.65866435734387,
          121.25,
          76.01812465401358,
          147.25,
          89.63358419567263,
          131.125,
          101.76923076923077,
          172.33333333333334,
          116.0278188402923,
          140.0211558400083,
          131.0296706069403,
          126.67306909454904,
          99.24812030075188,
          131.10655737704917,
          70.02541838007724,
          136.05056539189377,
          139.08333333333334,
          116.02205466090635,
          62.010298446377504,
          169.37554492591792,
          117.01478592973315,
          118.01126793305676,
          99.05686845316396,
          90.01484949036558,
          48.042429163890986,
          110.01955571660739,
          177,
          133.2850229048774,
          98.54030751544762,
          133.28606526181977,
          111.5,
          202.11571053410265,
          89.01196859832608,
          88.01315196325828,
          106.02842142651402,
          96.5,
          100.00504032330664,
          78.00141025855193,
          190.87642662657052,
          61.006144137689525,
          83.01194202296902,
          156.5782180703941,
          171.01484949036558,
          118.04543995137993,
          226.33333333333334,
          110.02643874212328,
          104.0146978744234,
          119,
          116.74000556534644,
          82.04000671364423,
          90.0157592174416,
          164.52900267127248,
          108.01935788071671,
          78.0046608008878,
          87.0425011989032,
          108.14285714285714,
          143.65116279069767,
          75.01682330473838,
          128.25,
          110.02221310999911,
          167.3378687223585,
          66.25,
          110.0520521471465,
          39.012614050270216,
          143.34233098139921,
          147.79430881938967,
          118.58668383609341,
          159.1909230675479,
          98.25,
          87.00876362083525,
          127.0171491185813,
          147.77691124921412,
          162,
          96.02999333337543,
          137.0242691280241,
          164.3333582016134,
          110.01022943979797,
          128.15254237288136,
          134.0380644466457,
          89.67975572258723,
          140.2,
          104.03198858562659,
          65.00679356190835,
          77.03536644047787,
          60.009468077273176,
          129.03117489122587,
          128.02898647426787,
          112.22239390970076,
          173.04699196503415,
          116.12820512820512,
          73.26814011728399,
          127.25,
          139.9128630705394,
          168.01565241177863,
          115.85145815408183,
          94.02205466090635,
          111.04541058097277,
          144.0321689954068,
          161.51643077958232,
          127.04119378551003,
          182.03013214740488,
          62.020419677085684,
          155.05804002948489,
          214.58066754432,
          78.00857455929065,
          47.00945291311078,
          102.70755264919548,
          102.06609983744627,
          64.25,
          136.0652302912752,
          148.08001342728846,
          133.08333333333334,
          139.0085724321029,
          74.01619687584912,
          108.02291541480561,
          44.00661138701228,
          174.0523727409543,
          68.00184847788942,
          138.04809871370176,
          193.42697098221382,
          124.25,
          96
         ],
         "y0": " ",
         "yaxis": "y"
        }
       ],
       "layout": {
        "annotations": [
         {
          "font": {
           "size": 12
          },
          "showarrow": false,
          "text": "223",
          "x": "No",
          "y": 224
         },
         {
          "font": {
           "size": 12
          },
          "showarrow": false,
          "text": "220",
          "x": "Yes",
          "y": 221
         }
        ],
        "boxmode": "overlay",
        "height": 800,
        "legend": {
         "title": {
          "text": "Smoking"
         },
         "tracegroupgap": 0
        },
        "margin": {
         "t": 60
        },
        "template": {
         "data": {
          "bar": [
           {
            "error_x": {
             "color": "#2a3f5f"
            },
            "error_y": {
             "color": "#2a3f5f"
            },
            "marker": {
             "line": {
              "color": "#E5ECF6",
              "width": 0.5
             },
             "pattern": {
              "fillmode": "overlay",
              "size": 10,
              "solidity": 0.2
             }
            },
            "type": "bar"
           }
          ],
          "barpolar": [
           {
            "marker": {
             "line": {
              "color": "#E5ECF6",
              "width": 0.5
             },
             "pattern": {
              "fillmode": "overlay",
              "size": 10,
              "solidity": 0.2
             }
            },
            "type": "barpolar"
           }
          ],
          "carpet": [
           {
            "aaxis": {
             "endlinecolor": "#2a3f5f",
             "gridcolor": "white",
             "linecolor": "white",
             "minorgridcolor": "white",
             "startlinecolor": "#2a3f5f"
            },
            "baxis": {
             "endlinecolor": "#2a3f5f",
             "gridcolor": "white",
             "linecolor": "white",
             "minorgridcolor": "white",
             "startlinecolor": "#2a3f5f"
            },
            "type": "carpet"
           }
          ],
          "choropleth": [
           {
            "colorbar": {
             "outlinewidth": 0,
             "ticks": ""
            },
            "type": "choropleth"
           }
          ],
          "contour": [
           {
            "colorbar": {
             "outlinewidth": 0,
             "ticks": ""
            },
            "colorscale": [
             [
              0,
              "#0d0887"
             ],
             [
              0.1111111111111111,
              "#46039f"
             ],
             [
              0.2222222222222222,
              "#7201a8"
             ],
             [
              0.3333333333333333,
              "#9c179e"
             ],
             [
              0.4444444444444444,
              "#bd3786"
             ],
             [
              0.5555555555555556,
              "#d8576b"
             ],
             [
              0.6666666666666666,
              "#ed7953"
             ],
             [
              0.7777777777777778,
              "#fb9f3a"
             ],
             [
              0.8888888888888888,
              "#fdca26"
             ],
             [
              1,
              "#f0f921"
             ]
            ],
            "type": "contour"
           }
          ],
          "contourcarpet": [
           {
            "colorbar": {
             "outlinewidth": 0,
             "ticks": ""
            },
            "type": "contourcarpet"
           }
          ],
          "heatmap": [
           {
            "colorbar": {
             "outlinewidth": 0,
             "ticks": ""
            },
            "colorscale": [
             [
              0,
              "#0d0887"
             ],
             [
              0.1111111111111111,
              "#46039f"
             ],
             [
              0.2222222222222222,
              "#7201a8"
             ],
             [
              0.3333333333333333,
              "#9c179e"
             ],
             [
              0.4444444444444444,
              "#bd3786"
             ],
             [
              0.5555555555555556,
              "#d8576b"
             ],
             [
              0.6666666666666666,
              "#ed7953"
             ],
             [
              0.7777777777777778,
              "#fb9f3a"
             ],
             [
              0.8888888888888888,
              "#fdca26"
             ],
             [
              1,
              "#f0f921"
             ]
            ],
            "type": "heatmap"
           }
          ],
          "heatmapgl": [
           {
            "colorbar": {
             "outlinewidth": 0,
             "ticks": ""
            },
            "colorscale": [
             [
              0,
              "#0d0887"
             ],
             [
              0.1111111111111111,
              "#46039f"
             ],
             [
              0.2222222222222222,
              "#7201a8"
             ],
             [
              0.3333333333333333,
              "#9c179e"
             ],
             [
              0.4444444444444444,
              "#bd3786"
             ],
             [
              0.5555555555555556,
              "#d8576b"
             ],
             [
              0.6666666666666666,
              "#ed7953"
             ],
             [
              0.7777777777777778,
              "#fb9f3a"
             ],
             [
              0.8888888888888888,
              "#fdca26"
             ],
             [
              1,
              "#f0f921"
             ]
            ],
            "type": "heatmapgl"
           }
          ],
          "histogram": [
           {
            "marker": {
             "pattern": {
              "fillmode": "overlay",
              "size": 10,
              "solidity": 0.2
             }
            },
            "type": "histogram"
           }
          ],
          "histogram2d": [
           {
            "colorbar": {
             "outlinewidth": 0,
             "ticks": ""
            },
            "colorscale": [
             [
              0,
              "#0d0887"
             ],
             [
              0.1111111111111111,
              "#46039f"
             ],
             [
              0.2222222222222222,
              "#7201a8"
             ],
             [
              0.3333333333333333,
              "#9c179e"
             ],
             [
              0.4444444444444444,
              "#bd3786"
             ],
             [
              0.5555555555555556,
              "#d8576b"
             ],
             [
              0.6666666666666666,
              "#ed7953"
             ],
             [
              0.7777777777777778,
              "#fb9f3a"
             ],
             [
              0.8888888888888888,
              "#fdca26"
             ],
             [
              1,
              "#f0f921"
             ]
            ],
            "type": "histogram2d"
           }
          ],
          "histogram2dcontour": [
           {
            "colorbar": {
             "outlinewidth": 0,
             "ticks": ""
            },
            "colorscale": [
             [
              0,
              "#0d0887"
             ],
             [
              0.1111111111111111,
              "#46039f"
             ],
             [
              0.2222222222222222,
              "#7201a8"
             ],
             [
              0.3333333333333333,
              "#9c179e"
             ],
             [
              0.4444444444444444,
              "#bd3786"
             ],
             [
              0.5555555555555556,
              "#d8576b"
             ],
             [
              0.6666666666666666,
              "#ed7953"
             ],
             [
              0.7777777777777778,
              "#fb9f3a"
             ],
             [
              0.8888888888888888,
              "#fdca26"
             ],
             [
              1,
              "#f0f921"
             ]
            ],
            "type": "histogram2dcontour"
           }
          ],
          "mesh3d": [
           {
            "colorbar": {
             "outlinewidth": 0,
             "ticks": ""
            },
            "type": "mesh3d"
           }
          ],
          "parcoords": [
           {
            "line": {
             "colorbar": {
              "outlinewidth": 0,
              "ticks": ""
             }
            },
            "type": "parcoords"
           }
          ],
          "pie": [
           {
            "automargin": true,
            "type": "pie"
           }
          ],
          "scatter": [
           {
            "fillpattern": {
             "fillmode": "overlay",
             "size": 10,
             "solidity": 0.2
            },
            "type": "scatter"
           }
          ],
          "scatter3d": [
           {
            "line": {
             "colorbar": {
              "outlinewidth": 0,
              "ticks": ""
             }
            },
            "marker": {
             "colorbar": {
              "outlinewidth": 0,
              "ticks": ""
             }
            },
            "type": "scatter3d"
           }
          ],
          "scattercarpet": [
           {
            "marker": {
             "colorbar": {
              "outlinewidth": 0,
              "ticks": ""
             }
            },
            "type": "scattercarpet"
           }
          ],
          "scattergeo": [
           {
            "marker": {
             "colorbar": {
              "outlinewidth": 0,
              "ticks": ""
             }
            },
            "type": "scattergeo"
           }
          ],
          "scattergl": [
           {
            "marker": {
             "colorbar": {
              "outlinewidth": 0,
              "ticks": ""
             }
            },
            "type": "scattergl"
           }
          ],
          "scattermapbox": [
           {
            "marker": {
             "colorbar": {
              "outlinewidth": 0,
              "ticks": ""
             }
            },
            "type": "scattermapbox"
           }
          ],
          "scatterpolar": [
           {
            "marker": {
             "colorbar": {
              "outlinewidth": 0,
              "ticks": ""
             }
            },
            "type": "scatterpolar"
           }
          ],
          "scatterpolargl": [
           {
            "marker": {
             "colorbar": {
              "outlinewidth": 0,
              "ticks": ""
             }
            },
            "type": "scatterpolargl"
           }
          ],
          "scatterternary": [
           {
            "marker": {
             "colorbar": {
              "outlinewidth": 0,
              "ticks": ""
             }
            },
            "type": "scatterternary"
           }
          ],
          "surface": [
           {
            "colorbar": {
             "outlinewidth": 0,
             "ticks": ""
            },
            "colorscale": [
             [
              0,
              "#0d0887"
             ],
             [
              0.1111111111111111,
              "#46039f"
             ],
             [
              0.2222222222222222,
              "#7201a8"
             ],
             [
              0.3333333333333333,
              "#9c179e"
             ],
             [
              0.4444444444444444,
              "#bd3786"
             ],
             [
              0.5555555555555556,
              "#d8576b"
             ],
             [
              0.6666666666666666,
              "#ed7953"
             ],
             [
              0.7777777777777778,
              "#fb9f3a"
             ],
             [
              0.8888888888888888,
              "#fdca26"
             ],
             [
              1,
              "#f0f921"
             ]
            ],
            "type": "surface"
           }
          ],
          "table": [
           {
            "cells": {
             "fill": {
              "color": "#EBF0F8"
             },
             "line": {
              "color": "white"
             }
            },
            "header": {
             "fill": {
              "color": "#C8D4E3"
             },
             "line": {
              "color": "white"
             }
            },
            "type": "table"
           }
          ]
         },
         "layout": {
          "annotationdefaults": {
           "arrowcolor": "#2a3f5f",
           "arrowhead": 0,
           "arrowwidth": 1
          },
          "autotypenumbers": "strict",
          "coloraxis": {
           "colorbar": {
            "outlinewidth": 0,
            "ticks": ""
           }
          },
          "colorscale": {
           "diverging": [
            [
             0,
             "#8e0152"
            ],
            [
             0.1,
             "#c51b7d"
            ],
            [
             0.2,
             "#de77ae"
            ],
            [
             0.3,
             "#f1b6da"
            ],
            [
             0.4,
             "#fde0ef"
            ],
            [
             0.5,
             "#f7f7f7"
            ],
            [
             0.6,
             "#e6f5d0"
            ],
            [
             0.7,
             "#b8e186"
            ],
            [
             0.8,
             "#7fbc41"
            ],
            [
             0.9,
             "#4d9221"
            ],
            [
             1,
             "#276419"
            ]
           ],
           "sequential": [
            [
             0,
             "#0d0887"
            ],
            [
             0.1111111111111111,
             "#46039f"
            ],
            [
             0.2222222222222222,
             "#7201a8"
            ],
            [
             0.3333333333333333,
             "#9c179e"
            ],
            [
             0.4444444444444444,
             "#bd3786"
            ],
            [
             0.5555555555555556,
             "#d8576b"
            ],
            [
             0.6666666666666666,
             "#ed7953"
            ],
            [
             0.7777777777777778,
             "#fb9f3a"
            ],
            [
             0.8888888888888888,
             "#fdca26"
            ],
            [
             1,
             "#f0f921"
            ]
           ],
           "sequentialminus": [
            [
             0,
             "#0d0887"
            ],
            [
             0.1111111111111111,
             "#46039f"
            ],
            [
             0.2222222222222222,
             "#7201a8"
            ],
            [
             0.3333333333333333,
             "#9c179e"
            ],
            [
             0.4444444444444444,
             "#bd3786"
            ],
            [
             0.5555555555555556,
             "#d8576b"
            ],
            [
             0.6666666666666666,
             "#ed7953"
            ],
            [
             0.7777777777777778,
             "#fb9f3a"
            ],
            [
             0.8888888888888888,
             "#fdca26"
            ],
            [
             1,
             "#f0f921"
            ]
           ]
          },
          "colorway": [
           "#636efa",
           "#EF553B",
           "#00cc96",
           "#ab63fa",
           "#FFA15A",
           "#19d3f3",
           "#FF6692",
           "#B6E880",
           "#FF97FF",
           "#FECB52"
          ],
          "font": {
           "color": "#2a3f5f"
          },
          "geo": {
           "bgcolor": "white",
           "lakecolor": "white",
           "landcolor": "#E5ECF6",
           "showlakes": true,
           "showland": true,
           "subunitcolor": "white"
          },
          "hoverlabel": {
           "align": "left"
          },
          "hovermode": "closest",
          "mapbox": {
           "style": "light"
          },
          "paper_bgcolor": "white",
          "plot_bgcolor": "#E5ECF6",
          "polar": {
           "angularaxis": {
            "gridcolor": "white",
            "linecolor": "white",
            "ticks": ""
           },
           "bgcolor": "#E5ECF6",
           "radialaxis": {
            "gridcolor": "white",
            "linecolor": "white",
            "ticks": ""
           }
          },
          "scene": {
           "xaxis": {
            "backgroundcolor": "#E5ECF6",
            "gridcolor": "white",
            "gridwidth": 2,
            "linecolor": "white",
            "showbackground": true,
            "ticks": "",
            "zerolinecolor": "white"
           },
           "yaxis": {
            "backgroundcolor": "#E5ECF6",
            "gridcolor": "white",
            "gridwidth": 2,
            "linecolor": "white",
            "showbackground": true,
            "ticks": "",
            "zerolinecolor": "white"
           },
           "zaxis": {
            "backgroundcolor": "#E5ECF6",
            "gridcolor": "white",
            "gridwidth": 2,
            "linecolor": "white",
            "showbackground": true,
            "ticks": "",
            "zerolinecolor": "white"
           }
          },
          "shapedefaults": {
           "line": {
            "color": "#2a3f5f"
           }
          },
          "ternary": {
           "aaxis": {
            "gridcolor": "white",
            "linecolor": "white",
            "ticks": ""
           },
           "baxis": {
            "gridcolor": "white",
            "linecolor": "white",
            "ticks": ""
           },
           "bgcolor": "#E5ECF6",
           "caxis": {
            "gridcolor": "white",
            "linecolor": "white",
            "ticks": ""
           }
          },
          "title": {
           "x": 0.05
          },
          "xaxis": {
           "automargin": true,
           "gridcolor": "white",
           "linecolor": "white",
           "ticks": "",
           "title": {
            "standoff": 15
           },
           "zerolinecolor": "white",
           "zerolinewidth": 2
          },
          "yaxis": {
           "automargin": true,
           "gridcolor": "white",
           "linecolor": "white",
           "ticks": "",
           "title": {
            "standoff": 15
           },
           "zerolinecolor": "white",
           "zerolinewidth": 2
          }
         }
        },
        "title": {
         "text": "Richness box-plot KORA (smoking)"
        },
        "width": 500,
        "xaxis": {
         "anchor": "y",
         "categoryarray": [
          "Yes",
          "No"
         ],
         "categoryorder": "array",
         "domain": [
          0,
          1
         ],
         "title": {
          "text": "Smoking"
         }
        },
        "yaxis": {
         "anchor": "x",
         "domain": [
          0,
          1
         ],
         "title": {
          "text": "estimate"
         }
        }
       }
      },
      "text/html": [
       "<div>                            <div id=\"caf4a8c1-3620-45e0-94b7-30eb2d13dabe\" class=\"plotly-graph-div\" style=\"height:800px; width:500px;\"></div>            <script type=\"text/javascript\">                require([\"plotly\"], function(Plotly) {                    window.PLOTLYENV=window.PLOTLYENV || {};                                    if (document.getElementById(\"caf4a8c1-3620-45e0-94b7-30eb2d13dabe\")) {                    Plotly.newPlot(                        \"caf4a8c1-3620-45e0-94b7-30eb2d13dabe\",                        [{\"alignmentgroup\":\"True\",\"hovertemplate\":\"Smoking=%{x}<br>estimate=%{y}<extra></extra>\",\"legendgroup\":\"Yes\",\"marker\":{\"color\":\"green\"},\"name\":\"Yes\",\"notched\":false,\"offsetgroup\":\"Yes\",\"orientation\":\"v\",\"showlegend\":true,\"x\":[\"Yes\",\"Yes\",\"Yes\",\"Yes\",\"Yes\",\"Yes\",\"Yes\",\"Yes\",\"Yes\",\"Yes\",\"Yes\",\"Yes\",\"Yes\",\"Yes\",\"Yes\",\"Yes\",\"Yes\",\"Yes\",\"Yes\",\"Yes\",\"Yes\",\"Yes\",\"Yes\",\"Yes\",\"Yes\",\"Yes\",\"Yes\",\"Yes\",\"Yes\",\"Yes\",\"Yes\",\"Yes\",\"Yes\",\"Yes\",\"Yes\",\"Yes\",\"Yes\",\"Yes\",\"Yes\",\"Yes\",\"Yes\",\"Yes\",\"Yes\",\"Yes\",\"Yes\",\"Yes\",\"Yes\",\"Yes\",\"Yes\",\"Yes\",\"Yes\",\"Yes\",\"Yes\",\"Yes\",\"Yes\",\"Yes\",\"Yes\",\"Yes\",\"Yes\",\"Yes\",\"Yes\",\"Yes\",\"Yes\",\"Yes\",\"Yes\",\"Yes\",\"Yes\",\"Yes\",\"Yes\",\"Yes\",\"Yes\",\"Yes\",\"Yes\",\"Yes\",\"Yes\",\"Yes\",\"Yes\",\"Yes\",\"Yes\",\"Yes\",\"Yes\",\"Yes\",\"Yes\",\"Yes\",\"Yes\",\"Yes\",\"Yes\",\"Yes\",\"Yes\",\"Yes\",\"Yes\",\"Yes\",\"Yes\",\"Yes\",\"Yes\",\"Yes\",\"Yes\",\"Yes\",\"Yes\",\"Yes\",\"Yes\",\"Yes\",\"Yes\",\"Yes\",\"Yes\",\"Yes\",\"Yes\",\"Yes\",\"Yes\",\"Yes\",\"Yes\",\"Yes\",\"Yes\",\"Yes\",\"Yes\",\"Yes\",\"Yes\",\"Yes\",\"Yes\",\"Yes\",\"Yes\",\"Yes\",\"Yes\",\"Yes\",\"Yes\",\"Yes\",\"Yes\",\"Yes\",\"Yes\",\"Yes\",\"Yes\",\"Yes\",\"Yes\",\"Yes\",\"Yes\",\"Yes\",\"Yes\",\"Yes\",\"Yes\",\"Yes\",\"Yes\",\"Yes\",\"Yes\",\"Yes\",\"Yes\",\"Yes\",\"Yes\",\"Yes\",\"Yes\",\"Yes\",\"Yes\",\"Yes\",\"Yes\",\"Yes\",\"Yes\",\"Yes\",\"Yes\",\"Yes\",\"Yes\",\"Yes\",\"Yes\",\"Yes\",\"Yes\",\"Yes\",\"Yes\",\"Yes\",\"Yes\",\"Yes\",\"Yes\",\"Yes\",\"Yes\",\"Yes\",\"Yes\",\"Yes\",\"Yes\",\"Yes\",\"Yes\",\"Yes\",\"Yes\",\"Yes\",\"Yes\",\"Yes\",\"Yes\",\"Yes\",\"Yes\",\"Yes\",\"Yes\",\"Yes\",\"Yes\",\"Yes\",\"Yes\",\"Yes\",\"Yes\",\"Yes\",\"Yes\",\"Yes\",\"Yes\",\"Yes\",\"Yes\",\"Yes\",\"Yes\",\"Yes\",\"Yes\",\"Yes\",\"Yes\",\"Yes\",\"Yes\",\"Yes\",\"Yes\",\"Yes\",\"Yes\",\"Yes\",\"Yes\",\"Yes\",\"Yes\",\"Yes\",\"Yes\",\"Yes\",\"Yes\",\"Yes\"],\"x0\":\" \",\"xaxis\":\"x\",\"y\":[107.25,100.01402004451032,142.08333333333334,119.0083346572763,162.09669236957737,121.14285714285714,95.27272727272727,153.6978993070913,197.04262375961724,177.90018610961667,94.00543634868919,122.0602400986406,104.33333333333333,127.11289174844634,140.5,144.25,130.1194022361609,116.05560427754529,142.45333333333335,119.01829035945637,101.00639822096375,77.03834779614364,72.27272727272727,101.92857142857143,148.5354143246887,89.03033366735566,138.1578947368421,119.05039302506337,91.01213456401204,134.0,146.03284960648978,67.02519651253168,71.01156679730076,124.0,73.01278259871455,123.92924791753383,80.05636934423379,750.9473684210864,96.25,89.0278188402923,113.0202095773322,111.25,94.2439024390244,151.02112819448365,80.03818676158265,146.01852942180102,65.01107333395322,103.8944182918628,92.00614413768952,84.03043551602906,195.73170731707316,109.36553981930979,81.02999333337543,133.91543677702433,135.0625,98.01890582622156,85.01619687584912,50.001345918934106,87.0159766860417,60.25,137.25,44.031627237351685,109.08571690210913,115.00924622858084,122.01759475625775,115.04083935417137,91.01685310422832,102.0,103.15254237288136,96.11293812322671,76.125,79.02805779615178,146.04963475980028,110.5,120.09261685775344,140.03305451977758,74.0033342096425,137.0,89.02221310999911,136.0380644466457,90.00861927706474,114.02587841421871,104.02363228277694,94.17391304347827,151.02239739064544,111.31290227708769,177.4297160066289,100.01566398834471,146.00643645090588,104.05248583416795,147.27766626809978,93.01107333395322,170.5,137.0903535147884,62.02107853285199,91.0,145.0271923805673,173.2680052378874,124.06924681613769,193.06220318138355,105.25,152.0184034608571,139.42535924593525,92.01985070968907,98.01398240266343,73.01278259871455,77.25,147.0050261824559,124.67022657221652,99.03279653070256,124.63398976095222,101.0101047886661,99.0184301876749,54.00144546259577,66.02956520404024,147.0,242.09314475953184,112.25714285714287,102.01985070968907,141.91176470588235,55.25,93.03536644047787,94.27272727272727,124.01542239640101,143.5,114.08300476757225,113.01775161974875,174.03881762132806,105.00691799227425,87.8,123.5,186.89295698141206,83.00313705116959,102.90799679662024,150.03502620555315,136.02390906389718,94.02775091059448,119.8108108108108,99.02291541480561,121.03183233381822,123.25,106.15789473684211,94.0,156.04680421815453,176.5,108.254356031229,76.01812465401358,72.05704856288386,120.01036676664735,130.4348313347529,154.0456022720767,149.01195212151362,158.27970520194705,91.01824776384682,79.14285714285714,147.05045620108086,144.03378528015128,136.0,110.33333333333333,105.0,178.0280885070472,103.02027329782462,118.03575137534065,72.00857455929065,154.05022126827797,185.0588154955497,99.01417936966617,186.08032939550574,138.42550337449845,194.70243599198182,91.00444561285667,87.01980771023011,113.01930585598433,113.01565241177865,151.55458515283843,141.01561649157486,129.01748626324786,183.98705190516316,154.25,153.46153846153845,80.07141337833175,114.02699479308187,78.0102984463775,141.0280885070472,120.0529992482079,112.25,116.53451996679892,72.00661138701227,173.14893617021278,106.06325447470337,84.03284960648978,131.01379651136241,90.00613317961749,127.4416568782502,101.03585937170652,82.47169734178271,115.08333333333333,84.04939256372093,145.0225099677593,44.01278259871455,89.12799616483133,145.03078709412418,107.0218731237839,130.84229961852915,165.0690399335977,128.023368981947,102.5396558588591,133.0456022720767,119.0,136.0419941875528,137.67312758415508,117.05297901113491,108.01595766661151,182.53289297888705,118.03670973300517,140.05913040808048,135.02013561314365,151.03539139204486,107.07483401225554,116.00576928227784],\"y0\":\" \",\"yaxis\":\"y\",\"type\":\"box\"},{\"alignmentgroup\":\"True\",\"hovertemplate\":\"Smoking=%{x}<br>estimate=%{y}<extra></extra>\",\"legendgroup\":\"No\",\"marker\":{\"color\":\"red\"},\"name\":\"No\",\"notched\":false,\"offsetgroup\":\"No\",\"orientation\":\"v\",\"showlegend\":true,\"x\":[\"No\",\"No\",\"No\",\"No\",\"No\",\"No\",\"No\",\"No\",\"No\",\"No\",\"No\",\"No\",\"No\",\"No\",\"No\",\"No\",\"No\",\"No\",\"No\",\"No\",\"No\",\"No\",\"No\",\"No\",\"No\",\"No\",\"No\",\"No\",\"No\",\"No\",\"No\",\"No\",\"No\",\"No\",\"No\",\"No\",\"No\",\"No\",\"No\",\"No\",\"No\",\"No\",\"No\",\"No\",\"No\",\"No\",\"No\",\"No\",\"No\",\"No\",\"No\",\"No\",\"No\",\"No\",\"No\",\"No\",\"No\",\"No\",\"No\",\"No\",\"No\",\"No\",\"No\",\"No\",\"No\",\"No\",\"No\",\"No\",\"No\",\"No\",\"No\",\"No\",\"No\",\"No\",\"No\",\"No\",\"No\",\"No\",\"No\",\"No\",\"No\",\"No\",\"No\",\"No\",\"No\",\"No\",\"No\",\"No\",\"No\",\"No\",\"No\",\"No\",\"No\",\"No\",\"No\",\"No\",\"No\",\"No\",\"No\",\"No\",\"No\",\"No\",\"No\",\"No\",\"No\",\"No\",\"No\",\"No\",\"No\",\"No\",\"No\",\"No\",\"No\",\"No\",\"No\",\"No\",\"No\",\"No\",\"No\",\"No\",\"No\",\"No\",\"No\",\"No\",\"No\",\"No\",\"No\",\"No\",\"No\",\"No\",\"No\",\"No\",\"No\",\"No\",\"No\",\"No\",\"No\",\"No\",\"No\",\"No\",\"No\",\"No\",\"No\",\"No\",\"No\",\"No\",\"No\",\"No\",\"No\",\"No\",\"No\",\"No\",\"No\",\"No\",\"No\",\"No\",\"No\",\"No\",\"No\",\"No\",\"No\",\"No\",\"No\",\"No\",\"No\",\"No\",\"No\",\"No\",\"No\",\"No\",\"No\",\"No\",\"No\",\"No\",\"No\",\"No\",\"No\",\"No\",\"No\",\"No\",\"No\",\"No\",\"No\",\"No\",\"No\",\"No\",\"No\",\"No\",\"No\",\"No\",\"No\",\"No\",\"No\",\"No\",\"No\",\"No\",\"No\",\"No\",\"No\",\"No\",\"No\",\"No\",\"No\",\"No\",\"No\",\"No\",\"No\",\"No\",\"No\",\"No\",\"No\",\"No\",\"No\",\"No\",\"No\",\"No\",\"No\",\"No\",\"No\",\"No\",\"No\",\"No\",\"No\"],\"x0\":\" \",\"xaxis\":\"x\",\"y\":[123.50891793214555,93.09478803383183,105.2,136.59067357512953,121.01777863356415,164.04209627975544,139.0349917911214,80.0253054189906,163.25,158.03078709412418,45.035485428489025,153.47151393726986,229.6022829973191,149.125,143.03432327158907,182.04119378551002,104.03305451977756,200.0965798140427,139.03502620555315,175.10855337401628,152.05044590057335,171.63825698622384,63.03513088808664,75.25,185.80750237022528,147.9231067024888,187.05170199756597,115.02887861892482,115.03426680108888,87.93031984044973,123.26108268962706,112.0084156021791,113.25,75.33333333333333,81.01940518119808,165.55523923437758,167.07558953759505,146.2292986535096,119.45950285188647,141.03670973300515,189.25,119.12417122249744,95.03043551602906,97.46153846153845,137.0472340297416,78.04242916389099,135.125,112.08333333333333,42.010298446377504,106.0554765667186,126.5631067961165,80.04409460443031,110.02046051429626,111.26372472814533,245.4000000000009,151.26928624358573,140.0287079473033,119.02580727579421,194.25,149.05083273683218,115.1098712143576,165.0935195297249,95.0129036378971,221.01105242564086,152.63383150947317,110.04485422396684,137.06747198298152,113.01565241177865,172.33333333333334,123.01000262892752,92.11293812322671,191.3064100825349,140.0240936811604,118.46153846153845,192.80241006190542,127.02965994962217,156.0,82.125,113.0231335946015,125.80510494900429,181.09815569897057,138.03300128674152,94.06624690179638,95.00946807727317,87.00528828740373,151.28047730755648,106.03536644047787,91.5,216.25,138.40147426665027,84.02842142651402,100.01278259871455,144.0,60.006398220963746,105.0,74.06523029127521,59.00841165236919,171.67446455930866,104.02205466090635,179.4925406171145,161.0159576666115,151.65866435734387,121.25,76.01812465401358,147.25,89.63358419567263,131.125,101.76923076923077,172.33333333333334,116.0278188402923,140.0211558400083,131.0296706069403,126.67306909454904,99.24812030075188,131.10655737704917,70.02541838007724,136.05056539189377,139.08333333333334,116.02205466090635,62.010298446377504,169.37554492591792,117.01478592973315,118.01126793305676,99.05686845316396,90.01484949036558,48.042429163890986,110.01955571660739,177.0,133.2850229048774,98.54030751544762,133.28606526181977,111.5,202.11571053410265,89.01196859832608,88.01315196325828,106.02842142651402,96.5,100.00504032330664,78.00141025855193,190.87642662657052,61.006144137689525,83.01194202296902,156.5782180703941,171.01484949036558,118.04543995137993,226.33333333333334,110.02643874212328,104.0146978744234,119.0,116.74000556534644,82.04000671364423,90.0157592174416,164.52900267127248,108.01935788071671,78.0046608008878,87.0425011989032,108.14285714285714,143.65116279069767,75.01682330473838,128.25,110.02221310999911,167.3378687223585,66.25,110.0520521471465,39.012614050270216,143.34233098139921,147.79430881938967,118.58668383609341,159.1909230675479,98.25,87.00876362083525,127.0171491185813,147.77691124921412,162.0,96.02999333337543,137.0242691280241,164.3333582016134,110.01022943979797,128.15254237288136,134.0380644466457,89.67975572258723,140.2,104.03198858562659,65.00679356190835,77.03536644047787,60.009468077273176,129.03117489122587,128.02898647426787,112.22239390970076,173.04699196503415,116.12820512820512,73.26814011728399,127.25,139.9128630705394,168.01565241177863,115.85145815408183,94.02205466090635,111.04541058097277,144.0321689954068,161.51643077958232,127.04119378551003,182.03013214740488,62.020419677085684,155.05804002948489,214.58066754432,78.00857455929065,47.00945291311078,102.70755264919548,102.06609983744627,64.25,136.0652302912752,148.08001342728846,133.08333333333334,139.0085724321029,74.01619687584912,108.02291541480561,44.00661138701228,174.0523727409543,68.00184847788942,138.04809871370176,193.42697098221382,124.25,96.0],\"y0\":\" \",\"yaxis\":\"y\",\"type\":\"box\"}],                        {\"template\":{\"data\":{\"histogram2dcontour\":[{\"type\":\"histogram2dcontour\",\"colorbar\":{\"outlinewidth\":0,\"ticks\":\"\"},\"colorscale\":[[0.0,\"#0d0887\"],[0.1111111111111111,\"#46039f\"],[0.2222222222222222,\"#7201a8\"],[0.3333333333333333,\"#9c179e\"],[0.4444444444444444,\"#bd3786\"],[0.5555555555555556,\"#d8576b\"],[0.6666666666666666,\"#ed7953\"],[0.7777777777777778,\"#fb9f3a\"],[0.8888888888888888,\"#fdca26\"],[1.0,\"#f0f921\"]]}],\"choropleth\":[{\"type\":\"choropleth\",\"colorbar\":{\"outlinewidth\":0,\"ticks\":\"\"}}],\"histogram2d\":[{\"type\":\"histogram2d\",\"colorbar\":{\"outlinewidth\":0,\"ticks\":\"\"},\"colorscale\":[[0.0,\"#0d0887\"],[0.1111111111111111,\"#46039f\"],[0.2222222222222222,\"#7201a8\"],[0.3333333333333333,\"#9c179e\"],[0.4444444444444444,\"#bd3786\"],[0.5555555555555556,\"#d8576b\"],[0.6666666666666666,\"#ed7953\"],[0.7777777777777778,\"#fb9f3a\"],[0.8888888888888888,\"#fdca26\"],[1.0,\"#f0f921\"]]}],\"heatmap\":[{\"type\":\"heatmap\",\"colorbar\":{\"outlinewidth\":0,\"ticks\":\"\"},\"colorscale\":[[0.0,\"#0d0887\"],[0.1111111111111111,\"#46039f\"],[0.2222222222222222,\"#7201a8\"],[0.3333333333333333,\"#9c179e\"],[0.4444444444444444,\"#bd3786\"],[0.5555555555555556,\"#d8576b\"],[0.6666666666666666,\"#ed7953\"],[0.7777777777777778,\"#fb9f3a\"],[0.8888888888888888,\"#fdca26\"],[1.0,\"#f0f921\"]]}],\"heatmapgl\":[{\"type\":\"heatmapgl\",\"colorbar\":{\"outlinewidth\":0,\"ticks\":\"\"},\"colorscale\":[[0.0,\"#0d0887\"],[0.1111111111111111,\"#46039f\"],[0.2222222222222222,\"#7201a8\"],[0.3333333333333333,\"#9c179e\"],[0.4444444444444444,\"#bd3786\"],[0.5555555555555556,\"#d8576b\"],[0.6666666666666666,\"#ed7953\"],[0.7777777777777778,\"#fb9f3a\"],[0.8888888888888888,\"#fdca26\"],[1.0,\"#f0f921\"]]}],\"contourcarpet\":[{\"type\":\"contourcarpet\",\"colorbar\":{\"outlinewidth\":0,\"ticks\":\"\"}}],\"contour\":[{\"type\":\"contour\",\"colorbar\":{\"outlinewidth\":0,\"ticks\":\"\"},\"colorscale\":[[0.0,\"#0d0887\"],[0.1111111111111111,\"#46039f\"],[0.2222222222222222,\"#7201a8\"],[0.3333333333333333,\"#9c179e\"],[0.4444444444444444,\"#bd3786\"],[0.5555555555555556,\"#d8576b\"],[0.6666666666666666,\"#ed7953\"],[0.7777777777777778,\"#fb9f3a\"],[0.8888888888888888,\"#fdca26\"],[1.0,\"#f0f921\"]]}],\"surface\":[{\"type\":\"surface\",\"colorbar\":{\"outlinewidth\":0,\"ticks\":\"\"},\"colorscale\":[[0.0,\"#0d0887\"],[0.1111111111111111,\"#46039f\"],[0.2222222222222222,\"#7201a8\"],[0.3333333333333333,\"#9c179e\"],[0.4444444444444444,\"#bd3786\"],[0.5555555555555556,\"#d8576b\"],[0.6666666666666666,\"#ed7953\"],[0.7777777777777778,\"#fb9f3a\"],[0.8888888888888888,\"#fdca26\"],[1.0,\"#f0f921\"]]}],\"mesh3d\":[{\"type\":\"mesh3d\",\"colorbar\":{\"outlinewidth\":0,\"ticks\":\"\"}}],\"scatter\":[{\"fillpattern\":{\"fillmode\":\"overlay\",\"size\":10,\"solidity\":0.2},\"type\":\"scatter\"}],\"parcoords\":[{\"type\":\"parcoords\",\"line\":{\"colorbar\":{\"outlinewidth\":0,\"ticks\":\"\"}}}],\"scatterpolargl\":[{\"type\":\"scatterpolargl\",\"marker\":{\"colorbar\":{\"outlinewidth\":0,\"ticks\":\"\"}}}],\"bar\":[{\"error_x\":{\"color\":\"#2a3f5f\"},\"error_y\":{\"color\":\"#2a3f5f\"},\"marker\":{\"line\":{\"color\":\"#E5ECF6\",\"width\":0.5},\"pattern\":{\"fillmode\":\"overlay\",\"size\":10,\"solidity\":0.2}},\"type\":\"bar\"}],\"scattergeo\":[{\"type\":\"scattergeo\",\"marker\":{\"colorbar\":{\"outlinewidth\":0,\"ticks\":\"\"}}}],\"scatterpolar\":[{\"type\":\"scatterpolar\",\"marker\":{\"colorbar\":{\"outlinewidth\":0,\"ticks\":\"\"}}}],\"histogram\":[{\"marker\":{\"pattern\":{\"fillmode\":\"overlay\",\"size\":10,\"solidity\":0.2}},\"type\":\"histogram\"}],\"scattergl\":[{\"type\":\"scattergl\",\"marker\":{\"colorbar\":{\"outlinewidth\":0,\"ticks\":\"\"}}}],\"scatter3d\":[{\"type\":\"scatter3d\",\"line\":{\"colorbar\":{\"outlinewidth\":0,\"ticks\":\"\"}},\"marker\":{\"colorbar\":{\"outlinewidth\":0,\"ticks\":\"\"}}}],\"scattermapbox\":[{\"type\":\"scattermapbox\",\"marker\":{\"colorbar\":{\"outlinewidth\":0,\"ticks\":\"\"}}}],\"scatterternary\":[{\"type\":\"scatterternary\",\"marker\":{\"colorbar\":{\"outlinewidth\":0,\"ticks\":\"\"}}}],\"scattercarpet\":[{\"type\":\"scattercarpet\",\"marker\":{\"colorbar\":{\"outlinewidth\":0,\"ticks\":\"\"}}}],\"carpet\":[{\"aaxis\":{\"endlinecolor\":\"#2a3f5f\",\"gridcolor\":\"white\",\"linecolor\":\"white\",\"minorgridcolor\":\"white\",\"startlinecolor\":\"#2a3f5f\"},\"baxis\":{\"endlinecolor\":\"#2a3f5f\",\"gridcolor\":\"white\",\"linecolor\":\"white\",\"minorgridcolor\":\"white\",\"startlinecolor\":\"#2a3f5f\"},\"type\":\"carpet\"}],\"table\":[{\"cells\":{\"fill\":{\"color\":\"#EBF0F8\"},\"line\":{\"color\":\"white\"}},\"header\":{\"fill\":{\"color\":\"#C8D4E3\"},\"line\":{\"color\":\"white\"}},\"type\":\"table\"}],\"barpolar\":[{\"marker\":{\"line\":{\"color\":\"#E5ECF6\",\"width\":0.5},\"pattern\":{\"fillmode\":\"overlay\",\"size\":10,\"solidity\":0.2}},\"type\":\"barpolar\"}],\"pie\":[{\"automargin\":true,\"type\":\"pie\"}]},\"layout\":{\"autotypenumbers\":\"strict\",\"colorway\":[\"#636efa\",\"#EF553B\",\"#00cc96\",\"#ab63fa\",\"#FFA15A\",\"#19d3f3\",\"#FF6692\",\"#B6E880\",\"#FF97FF\",\"#FECB52\"],\"font\":{\"color\":\"#2a3f5f\"},\"hovermode\":\"closest\",\"hoverlabel\":{\"align\":\"left\"},\"paper_bgcolor\":\"white\",\"plot_bgcolor\":\"#E5ECF6\",\"polar\":{\"bgcolor\":\"#E5ECF6\",\"angularaxis\":{\"gridcolor\":\"white\",\"linecolor\":\"white\",\"ticks\":\"\"},\"radialaxis\":{\"gridcolor\":\"white\",\"linecolor\":\"white\",\"ticks\":\"\"}},\"ternary\":{\"bgcolor\":\"#E5ECF6\",\"aaxis\":{\"gridcolor\":\"white\",\"linecolor\":\"white\",\"ticks\":\"\"},\"baxis\":{\"gridcolor\":\"white\",\"linecolor\":\"white\",\"ticks\":\"\"},\"caxis\":{\"gridcolor\":\"white\",\"linecolor\":\"white\",\"ticks\":\"\"}},\"coloraxis\":{\"colorbar\":{\"outlinewidth\":0,\"ticks\":\"\"}},\"colorscale\":{\"sequential\":[[0.0,\"#0d0887\"],[0.1111111111111111,\"#46039f\"],[0.2222222222222222,\"#7201a8\"],[0.3333333333333333,\"#9c179e\"],[0.4444444444444444,\"#bd3786\"],[0.5555555555555556,\"#d8576b\"],[0.6666666666666666,\"#ed7953\"],[0.7777777777777778,\"#fb9f3a\"],[0.8888888888888888,\"#fdca26\"],[1.0,\"#f0f921\"]],\"sequentialminus\":[[0.0,\"#0d0887\"],[0.1111111111111111,\"#46039f\"],[0.2222222222222222,\"#7201a8\"],[0.3333333333333333,\"#9c179e\"],[0.4444444444444444,\"#bd3786\"],[0.5555555555555556,\"#d8576b\"],[0.6666666666666666,\"#ed7953\"],[0.7777777777777778,\"#fb9f3a\"],[0.8888888888888888,\"#fdca26\"],[1.0,\"#f0f921\"]],\"diverging\":[[0,\"#8e0152\"],[0.1,\"#c51b7d\"],[0.2,\"#de77ae\"],[0.3,\"#f1b6da\"],[0.4,\"#fde0ef\"],[0.5,\"#f7f7f7\"],[0.6,\"#e6f5d0\"],[0.7,\"#b8e186\"],[0.8,\"#7fbc41\"],[0.9,\"#4d9221\"],[1,\"#276419\"]]},\"xaxis\":{\"gridcolor\":\"white\",\"linecolor\":\"white\",\"ticks\":\"\",\"title\":{\"standoff\":15},\"zerolinecolor\":\"white\",\"automargin\":true,\"zerolinewidth\":2},\"yaxis\":{\"gridcolor\":\"white\",\"linecolor\":\"white\",\"ticks\":\"\",\"title\":{\"standoff\":15},\"zerolinecolor\":\"white\",\"automargin\":true,\"zerolinewidth\":2},\"scene\":{\"xaxis\":{\"backgroundcolor\":\"#E5ECF6\",\"gridcolor\":\"white\",\"linecolor\":\"white\",\"showbackground\":true,\"ticks\":\"\",\"zerolinecolor\":\"white\",\"gridwidth\":2},\"yaxis\":{\"backgroundcolor\":\"#E5ECF6\",\"gridcolor\":\"white\",\"linecolor\":\"white\",\"showbackground\":true,\"ticks\":\"\",\"zerolinecolor\":\"white\",\"gridwidth\":2},\"zaxis\":{\"backgroundcolor\":\"#E5ECF6\",\"gridcolor\":\"white\",\"linecolor\":\"white\",\"showbackground\":true,\"ticks\":\"\",\"zerolinecolor\":\"white\",\"gridwidth\":2}},\"shapedefaults\":{\"line\":{\"color\":\"#2a3f5f\"}},\"annotationdefaults\":{\"arrowcolor\":\"#2a3f5f\",\"arrowhead\":0,\"arrowwidth\":1},\"geo\":{\"bgcolor\":\"white\",\"landcolor\":\"#E5ECF6\",\"subunitcolor\":\"white\",\"showland\":true,\"showlakes\":true,\"lakecolor\":\"white\"},\"title\":{\"x\":0.05},\"mapbox\":{\"style\":\"light\"}}},\"xaxis\":{\"anchor\":\"y\",\"domain\":[0.0,1.0],\"title\":{\"text\":\"Smoking\"},\"categoryorder\":\"array\",\"categoryarray\":[\"Yes\",\"No\"]},\"yaxis\":{\"anchor\":\"x\",\"domain\":[0.0,1.0],\"title\":{\"text\":\"estimate\"}},\"legend\":{\"title\":{\"text\":\"Smoking\"},\"tracegroupgap\":0},\"margin\":{\"t\":60},\"boxmode\":\"overlay\",\"title\":{\"text\":\"Richness box-plot KORA (smoking)\"},\"width\":500,\"height\":800,\"annotations\":[{\"font\":{\"size\":12},\"showarrow\":false,\"text\":\"223\",\"x\":\"No\",\"y\":224},{\"font\":{\"size\":12},\"showarrow\":false,\"text\":\"220\",\"x\":\"Yes\",\"y\":221}]},                        {\"responsive\": true}                    ).then(function(){\n",
       "                            \n",
       "var gd = document.getElementById('caf4a8c1-3620-45e0-94b7-30eb2d13dabe');\n",
       "var x = new MutationObserver(function (mutations, observer) {{\n",
       "        var display = window.getComputedStyle(gd).display;\n",
       "        if (!display || display === 'none') {{\n",
       "            console.log([gd, 'removed!']);\n",
       "            Plotly.purge(gd);\n",
       "            observer.disconnect();\n",
       "        }}\n",
       "}});\n",
       "\n",
       "// Listen for the removal of the full notebook cells\n",
       "var notebookContainer = gd.closest('#notebook-container');\n",
       "if (notebookContainer) {{\n",
       "    x.observe(notebookContainer, {childList: true});\n",
       "}}\n",
       "\n",
       "// Listen for the clearing of the current output cell\n",
       "var outputEl = gd.closest('.output');\n",
       "if (outputEl) {{\n",
       "    x.observe(outputEl, {childList: true});\n",
       "}}\n",
       "\n",
       "                        })                };                });            </script>        </div>"
      ]
     },
     "metadata": {},
     "output_type": "display_data"
    }
   ],
   "source": [
    "# Prepare allergy_df equivalent for smoking\n",
    "smoking_df = filtered_kora_matched_df[['W_str']].copy()\n",
    "smoking_df.index = filtered_kora_matched_df.index.astype(int)\n",
    "\n",
    "# Prepare richness dataframe\n",
    "rich_df = pd.DataFrame(sum_dict)\n",
    "rich_df.index = rich_df[\"sample_names\"].astype(int)\n",
    "\n",
    "# Join smoking info to richness dataframe\n",
    "rich_df = rich_df.join(smoking_df)\n",
    "rich_df.rename(columns={'W_str': 'Smoking'}, inplace=True)\n",
    "\n",
    "# Count frequency of each smoking group\n",
    "value_counts = rich_df['Smoking'].value_counts()\n",
    "\n",
    "# Create boxplot\n",
    "fig = px.box(rich_df, x=\"Smoking\", y=\"estimate\", color=\"Smoking\",\n",
    "             color_discrete_sequence=[\"green\", \"red\"])\n",
    "\n",
    "annotations = []\n",
    "for index, count in value_counts.items():\n",
    "    annotations.append(\n",
    "        go.layout.Annotation(\n",
    "            x=index,\n",
    "            y=count + 1,\n",
    "            text=str(count),\n",
    "            showarrow=False,\n",
    "            font=dict(size=12),\n",
    "        )\n",
    "    )\n",
    "\n",
    "fig.update_layout(\n",
    "    title=\"Richness box-plot KORA (smoking)\",\n",
    "    width=500,\n",
    "    height=800,\n",
    "    annotations=annotations\n",
    ")\n",
    "fig.show()\n",
    "# fig.write_image(\"plots/png/richness_KORA_smoking.png\")"
   ]
  }
 ],
 "metadata": {
  "kernelspec": {
   "display_name": "Python 3 (ipykernel)",
   "language": "python",
   "name": "python3"
  },
  "language_info": {
   "codemirror_mode": {
    "name": "ipython",
    "version": 3
   },
   "file_extension": ".py",
   "mimetype": "text/x-python",
   "name": "python",
   "nbconvert_exporter": "python",
   "pygments_lexer": "ipython3",
   "version": "3.10.6"
  }
 },
 "nbformat": 4,
 "nbformat_minor": 5
}
